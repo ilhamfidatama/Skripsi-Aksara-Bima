{
 "cells": [
  {
   "cell_type": "markdown",
   "metadata": {},
   "source": [
    "# Data ciri LBP 2"
   ]
  },
  {
   "cell_type": "code",
   "execution_count": 1,
   "metadata": {},
   "outputs": [],
   "source": [
    "from ipynb.fs.full.klasifikasi_baru import MainProgram\n",
    "#library visualisasi data\n",
    "from tabulate import tabulate\n",
    "import time\n",
    "import glob"
   ]
  },
  {
   "cell_type": "code",
   "execution_count": 2,
   "metadata": {},
   "outputs": [],
   "source": [
    "def showData( header, data):\n",
    "        cetak = tabulate(data, headers=header, tablefmt='orgtbl')\n",
    "        print(cetak)"
   ]
  },
  {
   "cell_type": "code",
   "execution_count": 3,
   "metadata": {},
   "outputs": [
    {
     "name": "stdout",
     "output_type": "stream",
     "text": [
      "waktu komputasi : 4615.731649637222\n"
     ]
    }
   ],
   "source": [
    "start = time.time()\n",
    "start_index = 1\n",
    "start_process = 17\n",
    "end_index = 32\n",
    "result = []\n",
    "skenario_klasifikasi = [1,3,5,7,9]\n",
    "header = [\"datasets\", \"k\", \"before\", \"presisi\", \"recall\", \"waktu komputasi\", \"after\", \"presisi\", \"recall\", \"waktu komputasi\"]\n",
    "for ekstrak in glob.glob(\"hasil_ekstraksi_ciri/*\"):\n",
    "    if(start_index >= start_process and start_index <= end_index):\n",
    "        for k in skenario_klasifikasi:\n",
    "            program = MainProgram(5, ekstrak)\n",
    "            score, presisi, recall, compute = program.startKlasifikasi(k)\n",
    "            data = [ekstrak, k, score, presisi, recall, compute]\n",
    "            result.append(data)\n",
    "#         print(\"proses\", ekstrak, \" || waktu total :\", total_waktu, \"menit\")\n",
    "    start_index += 1\n",
    "    \n",
    "end = time.time()\n",
    "print(\"waktu komputasi :\", (end-start))"
   ]
  },
  {
   "cell_type": "code",
   "execution_count": 4,
   "metadata": {},
   "outputs": [
    {
     "name": "stdout",
     "output_type": "stream",
     "text": [
      "| datasets                                       |   k |   before |   presisi |   recall |   waktu komputasi |\n",
      "|------------------------------------------------+-----+----------+-----------+----------+-------------------|\n",
      "| hasil_ekstraksi_ciri\\lbp2n4resize256zona16.csv |   1 |    62.3  |      0.62 |     0.62 |            104.07 |\n",
      "| hasil_ekstraksi_ciri\\lbp2n4resize256zona16.csv |   3 |    61.95 |      0.62 |     0.62 |            105.01 |\n",
      "| hasil_ekstraksi_ciri\\lbp2n4resize256zona16.csv |   5 |    65.1  |      0.65 |     0.65 |            108.49 |\n",
      "| hasil_ekstraksi_ciri\\lbp2n4resize256zona16.csv |   7 |    64.57 |      0.65 |     0.65 |            107.85 |\n",
      "| hasil_ekstraksi_ciri\\lbp2n4resize256zona16.csv |   9 |    64.8  |      0.65 |     0.65 |            106.93 |\n",
      "| hasil_ekstraksi_ciri\\lbp2n4resize256zona8.csv  |   7 |    61.01 |      0.61 |     0.61 |             25.98 |\n",
      "| hasil_ekstraksi_ciri\\lbp2n4resize256zona8.csv  |   9 |    60.86 |      0.61 |     0.61 |             25.84 |\n"
     ]
    }
   ],
   "source": [
    "header = [\"datasets\", \"k\", \"before\", \"presisi\", \"recall\", \"waktu komputasi\"]\n",
    "hasil_tertinggi = [row for row in result if row[2] > 60]\n",
    "showData(header, hasil_tertinggi)"
   ]
  },
  {
   "cell_type": "code",
   "execution_count": 5,
   "metadata": {},
   "outputs": [],
   "source": [
    "for hasil in hasil_tertinggi:\n",
    "    program = MainProgram(5, hasil[0])\n",
    "    score, presisi, recall, compute = program.startReduce(hasil[1])\n",
    "    hasil[0].replace(\"hasil_ekstraksi_ciri\\lbp\", \"lbp\")\n",
    "    result = [score, presisi, recall, compute]\n",
    "    hasil.extend(result)"
   ]
  },
  {
   "cell_type": "code",
   "execution_count": 6,
   "metadata": {},
   "outputs": [
    {
     "name": "stdout",
     "output_type": "stream",
     "text": [
      "| datasets                                       |   k |   before |   presisi |   recall |   waktu komputasi |   after |   presisi |   recall |   waktu komputasi |\n",
      "|------------------------------------------------+-----+----------+-----------+----------+-------------------+---------+-----------+----------+-------------------|\n",
      "| hasil_ekstraksi_ciri\\lbp2n4resize256zona16.csv |   1 |    62.3  |      0.62 |     0.62 |            104.07 |    42.6 |      0.43 |     0.43 |             35.5  |\n",
      "| hasil_ekstraksi_ciri\\lbp2n4resize256zona16.csv |   3 |    61.95 |      0.62 |     0.62 |            105.01 |    51.6 |      0.52 |     0.52 |             72.84 |\n",
      "| hasil_ekstraksi_ciri\\lbp2n4resize256zona16.csv |   5 |    65.1  |      0.65 |     0.65 |            108.49 |    61.8 |      0.62 |     0.62 |             82.14 |\n",
      "| hasil_ekstraksi_ciri\\lbp2n4resize256zona16.csv |   7 |    64.57 |      0.65 |     0.65 |            107.85 |    62.4 |      0.62 |     0.62 |             76.09 |\n",
      "| hasil_ekstraksi_ciri\\lbp2n4resize256zona16.csv |   9 |    64.8  |      0.65 |     0.65 |            106.93 |    64.2 |      0.64 |     0.64 |             68.54 |\n",
      "| hasil_ekstraksi_ciri\\lbp2n4resize256zona8.csv  |   7 |    61.01 |      0.61 |     0.61 |             25.98 |    57.4 |      0.57 |     0.57 |             16.44 |\n",
      "| hasil_ekstraksi_ciri\\lbp2n4resize256zona8.csv  |   9 |    60.86 |      0.61 |     0.61 |             25.84 |    59.4 |      0.59 |     0.59 |             15.6  |\n"
     ]
    }
   ],
   "source": [
    "header = [\"datasets\", \"k\", \"before\", \"presisi\", \"recall\", \"waktu komputasi\", \"after\", \"presisi\", \"recall\", \"waktu komputasi\"]\n",
    "showData(header, hasil_tertinggi)"
   ]
  }
 ],
 "metadata": {
  "kernelspec": {
   "display_name": "Python 3",
   "language": "python",
   "name": "python3"
  },
  "language_info": {
   "codemirror_mode": {
    "name": "ipython",
    "version": 3
   },
   "file_extension": ".py",
   "mimetype": "text/x-python",
   "name": "python",
   "nbconvert_exporter": "python",
   "pygments_lexer": "ipython3",
   "version": "3.7.7"
  }
 },
 "nbformat": 4,
 "nbformat_minor": 4
}
