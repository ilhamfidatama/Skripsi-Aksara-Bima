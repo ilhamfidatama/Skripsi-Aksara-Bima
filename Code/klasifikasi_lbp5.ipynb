{
 "cells": [
  {
   "cell_type": "markdown",
   "metadata": {},
   "source": [
    "# Data ciri LBP 5"
   ]
  },
  {
   "cell_type": "code",
   "execution_count": 1,
   "metadata": {},
   "outputs": [],
   "source": [
    "from ipynb.fs.full.klasifikasi_baru import MainProgram\n",
    "#library visualisasi data\n",
    "from tabulate import tabulate\n",
    "import time\n",
    "import glob"
   ]
  },
  {
   "cell_type": "code",
   "execution_count": 2,
   "metadata": {},
   "outputs": [],
   "source": [
    "def showData( header, data):\n",
    "        cetak = tabulate(data, headers=header, tablefmt='orgtbl')\n",
    "        print(cetak)"
   ]
  },
  {
   "cell_type": "code",
   "execution_count": 3,
   "metadata": {},
   "outputs": [
    {
     "name": "stdout",
     "output_type": "stream",
     "text": [
      "waktu komputasi : 4524.062305927277\n"
     ]
    }
   ],
   "source": [
    "start = time.time()\n",
    "start_index = 1\n",
    "start_process = 65\n",
    "end_index = 80\n",
    "result = []\n",
    "skenario_klasifikasi = [1,3,5,7,9]\n",
    "header = [\"datasets\", \"k\", \"before\", \"presisi\", \"recall\", \"waktu komputasi\", \"after\", \"presisi\", \"recall\", \"waktu komputasi\"]\n",
    "for ekstrak in glob.glob(\"hasil_ekstraksi_ciri/*\"):\n",
    "    if(start_index >= start_process and start_index <= end_index):\n",
    "        for k in skenario_klasifikasi:\n",
    "            program = MainProgram(5, ekstrak)\n",
    "            score, presisi, recall, compute = program.startKlasifikasi(k)\n",
    "            data = [ekstrak, k, score, presisi, recall, compute]\n",
    "            result.append(data)\n",
    "#         print(\"proses\", ekstrak, \" || waktu total :\", total_waktu, \"menit\")\n",
    "    start_index += 1\n",
    "    \n",
    "end = time.time()\n",
    "print(\"waktu komputasi :\", (end-start))"
   ]
  },
  {
   "cell_type": "code",
   "execution_count": 4,
   "metadata": {},
   "outputs": [
    {
     "name": "stdout",
     "output_type": "stream",
     "text": [
      "| datasets                                       |   k |   before |   presisi |   recall |   waktu komputasi |\n",
      "|------------------------------------------------+-----+----------+-----------+----------+-------------------|\n",
      "| hasil_ekstraksi_ciri\\lbp5n4resize128zona16.csv |   1 |    62.18 |      0.62 |     0.62 |             76.6  |\n",
      "| hasil_ekstraksi_ciri\\lbp5n4resize128zona16.csv |   3 |    64.3  |      0.64 |     0.64 |             78.37 |\n",
      "| hasil_ekstraksi_ciri\\lbp5n4resize128zona16.csv |   5 |    65.74 |      0.66 |     0.66 |             76.47 |\n",
      "| hasil_ekstraksi_ciri\\lbp5n4resize128zona16.csv |   7 |    64.8  |      0.65 |     0.65 |             75.68 |\n",
      "| hasil_ekstraksi_ciri\\lbp5n4resize128zona16.csv |   9 |    65.25 |      0.65 |     0.65 |             78.28 |\n",
      "| hasil_ekstraksi_ciri\\lbp5n4resize128zona8.csv  |   5 |    60.93 |      0.61 |     0.61 |             26.01 |\n",
      "| hasil_ekstraksi_ciri\\lbp5n4resize128zona8.csv  |   7 |    61.46 |      0.61 |     0.61 |             26.15 |\n",
      "| hasil_ekstraksi_ciri\\lbp5n4resize128zona8.csv  |   9 |    61.99 |      0.62 |     0.62 |             26.16 |\n",
      "| hasil_ekstraksi_ciri\\lbp5n4resize256zona16.csv |   1 |    65.71 |      0.66 |     0.66 |            109.3  |\n",
      "| hasil_ekstraksi_ciri\\lbp5n4resize256zona16.csv |   3 |    68.51 |      0.69 |     0.69 |            110.41 |\n",
      "| hasil_ekstraksi_ciri\\lbp5n4resize256zona16.csv |   5 |    69.8  |      0.7  |     0.7  |            112.17 |\n",
      "| hasil_ekstraksi_ciri\\lbp5n4resize256zona16.csv |   7 |    69.5  |      0.69 |     0.69 |            110.25 |\n",
      "| hasil_ekstraksi_ciri\\lbp5n4resize256zona16.csv |   9 |    68.17 |      0.68 |     0.68 |            109.11 |\n",
      "| hasil_ekstraksi_ciri\\lbp5n4resize256zona8.csv  |   1 |    63.74 |      0.64 |     0.64 |             25.81 |\n",
      "| hasil_ekstraksi_ciri\\lbp5n4resize256zona8.csv  |   3 |    64.68 |      0.65 |     0.65 |             26.01 |\n",
      "| hasil_ekstraksi_ciri\\lbp5n4resize256zona8.csv  |   5 |    66.28 |      0.66 |     0.66 |             26.21 |\n",
      "| hasil_ekstraksi_ciri\\lbp5n4resize256zona8.csv  |   7 |    67.6  |      0.68 |     0.68 |             26.89 |\n",
      "| hasil_ekstraksi_ciri\\lbp5n4resize256zona8.csv  |   9 |    67.45 |      0.67 |     0.67 |             27.24 |\n",
      "| hasil_ekstraksi_ciri\\lbp5n4resize64zona16.csv  |   1 |    80.83 |      0.81 |     0.81 |             81.15 |\n",
      "| hasil_ekstraksi_ciri\\lbp5n4resize64zona16.csv  |   3 |    78.48 |      0.78 |     0.78 |             70.06 |\n",
      "| hasil_ekstraksi_ciri\\lbp5n4resize64zona16.csv  |   5 |    76.77 |      0.77 |     0.77 |             77.71 |\n",
      "| hasil_ekstraksi_ciri\\lbp5n4resize64zona16.csv  |   7 |    75.6  |      0.76 |     0.76 |             97.41 |\n",
      "| hasil_ekstraksi_ciri\\lbp5n4resize64zona16.csv  |   9 |    74.46 |      0.74 |     0.74 |             97.41 |\n"
     ]
    }
   ],
   "source": [
    "header = [\"datasets\", \"k\", \"before\", \"presisi\", \"recall\", \"waktu komputasi\"]\n",
    "hasil_tertinggi = [row for row in result if row[2] > 60]\n",
    "showData(header, hasil_tertinggi)"
   ]
  },
  {
   "cell_type": "code",
   "execution_count": 5,
   "metadata": {},
   "outputs": [],
   "source": [
    "for hasil in hasil_tertinggi:\n",
    "    program = MainProgram(5, hasil[0])\n",
    "    score, presisi, recall, compute = program.startReduce(hasil[1])\n",
    "    hasil[0].replace(\"hasil_ekstraksi_ciri\\lbp\", \"lbp\")\n",
    "    result = [score, presisi, recall, compute]\n",
    "    hasil.extend(result)"
   ]
  },
  {
   "cell_type": "code",
   "execution_count": 6,
   "metadata": {},
   "outputs": [
    {
     "name": "stdout",
     "output_type": "stream",
     "text": [
      "| datasets                                       |   k |   before |   presisi |   recall |   waktu komputasi |   after |   presisi |   recall |   waktu komputasi |\n",
      "|------------------------------------------------+-----+----------+-----------+----------+-------------------+---------+-----------+----------+-------------------|\n",
      "| hasil_ekstraksi_ciri\\lbp5n4resize128zona16.csv |   1 |    62.18 |      0.62 |     0.62 |             76.6  |    45   |      0.45 |     0.45 |             30.53 |\n",
      "| hasil_ekstraksi_ciri\\lbp5n4resize128zona16.csv |   3 |    64.3  |      0.64 |     0.64 |             78.37 |    55.8 |      0.56 |     0.56 |             63.64 |\n",
      "| hasil_ekstraksi_ciri\\lbp5n4resize128zona16.csv |   5 |    65.74 |      0.66 |     0.66 |             76.47 |    63.8 |      0.64 |     0.64 |             75.29 |\n",
      "| hasil_ekstraksi_ciri\\lbp5n4resize128zona16.csv |   7 |    64.8  |      0.65 |     0.65 |             75.68 |    63.2 |      0.63 |     0.63 |             77.81 |\n",
      "| hasil_ekstraksi_ciri\\lbp5n4resize128zona16.csv |   9 |    65.25 |      0.65 |     0.65 |             78.28 |    64.2 |      0.64 |     0.64 |             67.82 |\n",
      "| hasil_ekstraksi_ciri\\lbp5n4resize128zona8.csv  |   5 |    60.93 |      0.61 |     0.61 |             26.01 |    57.6 |      0.58 |     0.58 |             16.09 |\n",
      "| hasil_ekstraksi_ciri\\lbp5n4resize128zona8.csv  |   7 |    61.46 |      0.61 |     0.61 |             26.15 |    59.2 |      0.59 |     0.59 |             16.79 |\n",
      "| hasil_ekstraksi_ciri\\lbp5n4resize128zona8.csv  |   9 |    61.99 |      0.62 |     0.62 |             26.16 |    60.8 |      0.61 |     0.61 |             14.4  |\n",
      "| hasil_ekstraksi_ciri\\lbp5n4resize256zona16.csv |   1 |    65.71 |      0.66 |     0.66 |            109.3  |    46.4 |      0.46 |     0.46 |             17.77 |\n",
      "| hasil_ekstraksi_ciri\\lbp5n4resize256zona16.csv |   3 |    68.51 |      0.69 |     0.69 |            110.41 |    55.6 |      0.56 |     0.56 |             31.75 |\n",
      "| hasil_ekstraksi_ciri\\lbp5n4resize256zona16.csv |   5 |    69.8  |      0.7  |     0.7  |            112.17 |    64.8 |      0.65 |     0.65 |             36.21 |\n",
      "| hasil_ekstraksi_ciri\\lbp5n4resize256zona16.csv |   7 |    69.5  |      0.69 |     0.69 |            110.25 |    66.6 |      0.67 |     0.67 |             38.64 |\n",
      "| hasil_ekstraksi_ciri\\lbp5n4resize256zona16.csv |   9 |    68.17 |      0.68 |     0.68 |            109.11 |    66.8 |      0.67 |     0.67 |             40.66 |\n",
      "| hasil_ekstraksi_ciri\\lbp5n4resize256zona8.csv  |   1 |    63.74 |      0.64 |     0.64 |             25.81 |    43.2 |      0.43 |     0.43 |              4.23 |\n",
      "| hasil_ekstraksi_ciri\\lbp5n4resize256zona8.csv  |   3 |    64.68 |      0.65 |     0.65 |             26.01 |    53.4 |      0.53 |     0.53 |              8.06 |\n",
      "| hasil_ekstraksi_ciri\\lbp5n4resize256zona8.csv  |   5 |    66.28 |      0.66 |     0.66 |             26.21 |    59.6 |      0.6  |     0.6  |              9.38 |\n",
      "| hasil_ekstraksi_ciri\\lbp5n4resize256zona8.csv  |   7 |    67.6  |      0.68 |     0.68 |             26.89 |    64.8 |      0.65 |     0.65 |              9.99 |\n",
      "| hasil_ekstraksi_ciri\\lbp5n4resize256zona8.csv  |   9 |    67.45 |      0.67 |     0.67 |             27.24 |    62.4 |      0.63 |     0.63 |             10.61 |\n",
      "| hasil_ekstraksi_ciri\\lbp5n4resize64zona16.csv  |   1 |    80.83 |      0.81 |     0.81 |             81.15 |    46.4 |      0.46 |     0.46 |              8.27 |\n",
      "| hasil_ekstraksi_ciri\\lbp5n4resize64zona16.csv  |   3 |    78.48 |      0.78 |     0.78 |             70.06 |    60.8 |      0.61 |     0.61 |             19.94 |\n",
      "| hasil_ekstraksi_ciri\\lbp5n4resize64zona16.csv  |   5 |    76.77 |      0.77 |     0.77 |             77.71 |    71.6 |      0.72 |     0.72 |             28.62 |\n",
      "| hasil_ekstraksi_ciri\\lbp5n4resize64zona16.csv  |   7 |    75.6  |      0.76 |     0.76 |             97.41 |    74   |      0.74 |     0.74 |             31.9  |\n",
      "| hasil_ekstraksi_ciri\\lbp5n4resize64zona16.csv  |   9 |    74.46 |      0.74 |     0.74 |             97.41 |    73.2 |      0.73 |     0.73 |             33.27 |\n"
     ]
    }
   ],
   "source": [
    "header = [\"datasets\", \"k\", \"before\", \"presisi\", \"recall\", \"waktu komputasi\", \"after\", \"presisi\", \"recall\", \"waktu komputasi\"]\n",
    "showData(header, hasil_tertinggi)"
   ]
  }
 ],
 "metadata": {
  "kernelspec": {
   "display_name": "Python 3",
   "language": "python",
   "name": "python3"
  },
  "language_info": {
   "codemirror_mode": {
    "name": "ipython",
    "version": 3
   },
   "file_extension": ".py",
   "mimetype": "text/x-python",
   "name": "python",
   "nbconvert_exporter": "python",
   "pygments_lexer": "ipython3",
   "version": "3.7.7"
  }
 },
 "nbformat": 4,
 "nbformat_minor": 4
}
