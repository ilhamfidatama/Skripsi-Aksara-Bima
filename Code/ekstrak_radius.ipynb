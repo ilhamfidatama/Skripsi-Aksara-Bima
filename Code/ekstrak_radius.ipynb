{
 "cells": [
  {
   "cell_type": "code",
   "execution_count": 1,
   "metadata": {},
   "outputs": [],
   "source": [
    "from ipynb.fs.full.MainSkenario import Skenario"
   ]
  },
  {
   "cell_type": "markdown",
   "metadata": {},
   "source": [
    "# Skenario tanpa resize dan zoning"
   ]
  },
  {
   "cell_type": "code",
   "execution_count": 2,
   "metadata": {},
   "outputs": [],
   "source": [
    "radius_lbp = [1,2,3,4,5,6,7,8,9]\n",
    "klasifikasi_k = [1,3,5,7,9]\n",
    "\n",
    "for radius in radius_lbp:\n",
    "    filename_ekstraksi = \"ekstraksi_ciri/radius\"+str(radius)+\".csv\"\n",
    "    skenario = Skenario(radius, 4, 0, 1, filename_ekstraksi)\n",
    "    skenario.saveEkstraksiHeader()\n",
    "    skenario.startEkstraksi()\n",
    "    #klasifikasi\n",
    "    filename_klasifikasi = \"hasil_klasifikasi.csv\"\n",
    "    result_klasifikasi = [filename_ekstraksi]\n",
    "    for k in klasifikasi_k:\n",
    "        result = skenario.startKlasifikasi(k)\n",
    "        result_klasifikasi.extend(result)\n",
    "    skenario.saveHasilKlasifikasi(filename_klasifikasi, result_klasifikasi)"
   ]
  }
 ],
 "metadata": {
  "kernelspec": {
   "display_name": "Python 3",
   "language": "python",
   "name": "python3"
  },
  "language_info": {
   "codemirror_mode": {
    "name": "ipython",
    "version": 3
   },
   "file_extension": ".py",
   "mimetype": "text/x-python",
   "name": "python",
   "nbconvert_exporter": "python",
   "pygments_lexer": "ipython3",
   "version": "3.7.7"
  }
 },
 "nbformat": 4,
 "nbformat_minor": 4
}
