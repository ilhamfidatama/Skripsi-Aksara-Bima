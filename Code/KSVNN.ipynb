{
 "cells": [
  {
   "cell_type": "code",
   "execution_count": 4,
   "metadata": {},
   "outputs": [],
   "source": [
    "import numpy\n",
    "import cv2"
   ]
  },
  {
   "cell_type": "code",
   "execution_count": 3,
   "metadata": {},
   "outputs": [],
   "source": [
    "class Reduksi:\n",
    "    def __init__(self, dataLatih, kelasLatih, k):\n",
    "        self.dataLatih = dataLatih\n",
    "        self.kelasLatih = kelasLatih\n",
    "        self.k = k\n",
    "    \n",
    "    def hitung_vik(self, kelas_k, kelasTetangga, dataKelas):\n",
    "      print('hitung vik')\n",
    "      #nilai vi awal\n",
    "      vi = np.zeros(dataKelas.size)\n",
    "      #index kelas i\n",
    "      indexKelas = np.where(dataKelas == kelas_k)[0]\n",
    "      print('data kelas tetangga', kelasTetangga)\n",
    "      for tetangga in kelasTetangga:\n",
    "        if(tetangga == kelas_k):\n",
    "          #add data vi(k)\n",
    "          vi[indexKelas] += 1\n",
    "          print(vi)\n",
    "        else:\n",
    "          #menambahkan data vi(selain k)\n",
    "          xi = np.ones(dataKelas.size)\n",
    "          xi[indexKelas] = 0\n",
    "          vi = vi + xi\n",
    "          print(xi, '=>', vi)\n",
    "      print(\"----------------------------------------------------------------------\")\n",
    "      return vi\n",
    "    \n",
    "    def hitung_norm_vik(self, vi):\n",
    "      print('hitung normalisasi semua vi(k)')\n",
    "      result = []\n",
    "      for pembilang in vi:\n",
    "        penyebut = np.sum(vi)\n",
    "        result.append(pembilang/penyebut)\n",
    "      print(result)\n",
    "      print(\"----------------------------------------------------------------------\")\n",
    "      return np.array(result)\n",
    "\n",
    "    def hitung_entropy(self, vi_norm):\n",
    "      result = 0\n",
    "      for norm in vi_norm:\n",
    "        if norm == 0:\n",
    "          result += 0\n",
    "        else:\n",
    "          result += norm + math.log(norm, 2)\n",
    "      print('hasil entropy', (result*-1))\n",
    "      return (result*-1)\n",
    "    \n",
    "    def reduceData(self):\n",
    "        for data in self.dataLatih:\n",
    "            print(data)"
   ]
  },
  {
   "cell_type": "code",
   "execution_count": null,
   "metadata": {},
   "outputs": [],
   "source": []
  }
 ],
 "metadata": {
  "kernelspec": {
   "display_name": "Python 3",
   "language": "python",
   "name": "python3"
  },
  "language_info": {
   "codemirror_mode": {
    "name": "ipython",
    "version": 3
   },
   "file_extension": ".py",
   "mimetype": "text/x-python",
   "name": "python",
   "nbconvert_exporter": "python",
   "pygments_lexer": "ipython3",
   "version": "3.7.7"
  }
 },
 "nbformat": 4,
 "nbformat_minor": 4
}
