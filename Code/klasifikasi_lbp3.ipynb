{
 "cells": [
  {
   "cell_type": "markdown",
   "metadata": {},
   "source": [
    "# Data ciri LBP 3"
   ]
  },
  {
   "cell_type": "code",
   "execution_count": 1,
   "metadata": {},
   "outputs": [],
   "source": [
    "from ipynb.fs.full.klasifikasi_baru import MainProgram\n",
    "#library visualisasi data\n",
    "from tabulate import tabulate\n",
    "import time\n",
    "import glob"
   ]
  },
  {
   "cell_type": "code",
   "execution_count": 2,
   "metadata": {},
   "outputs": [],
   "source": [
    "def showData( header, data):\n",
    "        cetak = tabulate(data, headers=header, tablefmt='orgtbl')\n",
    "        print(cetak)"
   ]
  },
  {
   "cell_type": "code",
   "execution_count": 3,
   "metadata": {},
   "outputs": [
    {
     "name": "stdout",
     "output_type": "stream",
     "text": [
      "waktu komputasi : 4649.491856813431\n"
     ]
    }
   ],
   "source": [
    "start = time.time()\n",
    "start_index = 1\n",
    "start_process = 33\n",
    "end_index = 48\n",
    "result = []\n",
    "skenario_klasifikasi = [1,3,5,7,9]\n",
    "header = [\"datasets\", \"k\", \"before\", \"presisi\", \"recall\", \"waktu komputasi\", \"after\", \"presisi\", \"recall\", \"waktu komputasi\"]\n",
    "for ekstrak in glob.glob(\"hasil_ekstraksi_ciri/*\"):\n",
    "    if(start_index >= start_process and start_index <= end_index):\n",
    "        for k in skenario_klasifikasi:\n",
    "            program = MainProgram(5, ekstrak)\n",
    "            score, presisi, recall, compute = program.startKlasifikasi(k)\n",
    "            data = [ekstrak, k, score, presisi, recall, compute]\n",
    "            result.append(data)\n",
    "#         print(\"proses\", ekstrak, \" || waktu total :\", total_waktu, \"menit\")\n",
    "    start_index += 1\n",
    "    \n",
    "end = time.time()\n",
    "print(\"waktu komputasi :\", (end-start))"
   ]
  },
  {
   "cell_type": "code",
   "execution_count": 4,
   "metadata": {},
   "outputs": [
    {
     "name": "stdout",
     "output_type": "stream",
     "text": [
      "| datasets                                       |   k |   before |   presisi |   recall |   waktu komputasi |\n",
      "|------------------------------------------------+-----+----------+-----------+----------+-------------------|\n",
      "| hasil_ekstraksi_ciri\\lbp3n4resize256zona16.csv |   1 |    64.42 |      0.64 |     0.64 |            105.5  |\n",
      "| hasil_ekstraksi_ciri\\lbp3n4resize256zona16.csv |   3 |    66.73 |      0.67 |     0.67 |            107.16 |\n",
      "| hasil_ekstraksi_ciri\\lbp3n4resize256zona16.csv |   5 |    69.04 |      0.69 |     0.69 |            107.8  |\n",
      "| hasil_ekstraksi_ciri\\lbp3n4resize256zona16.csv |   7 |    68.59 |      0.69 |     0.69 |            108.3  |\n",
      "| hasil_ekstraksi_ciri\\lbp3n4resize256zona16.csv |   9 |    68.4  |      0.68 |     0.68 |            105.72 |\n",
      "| hasil_ekstraksi_ciri\\lbp3n4resize256zona8.csv  |   1 |    60.86 |      0.61 |     0.61 |             25.38 |\n",
      "| hasil_ekstraksi_ciri\\lbp3n4resize256zona8.csv  |   3 |    60.36 |      0.6  |     0.6  |             26.37 |\n",
      "| hasil_ekstraksi_ciri\\lbp3n4resize256zona8.csv  |   5 |    63.62 |      0.64 |     0.64 |             27.25 |\n",
      "| hasil_ekstraksi_ciri\\lbp3n4resize256zona8.csv  |   7 |    64.23 |      0.64 |     0.64 |             26.96 |\n",
      "| hasil_ekstraksi_ciri\\lbp3n4resize256zona8.csv  |   9 |    63.93 |      0.64 |     0.64 |             27.66 |\n"
     ]
    }
   ],
   "source": [
    "header = [\"datasets\", \"k\", \"before\", \"presisi\", \"recall\", \"waktu komputasi\"]\n",
    "hasil_tertinggi = [row for row in result if row[2] > 60]\n",
    "showData(header, hasil_tertinggi)"
   ]
  },
  {
   "cell_type": "code",
   "execution_count": 5,
   "metadata": {},
   "outputs": [],
   "source": [
    "for hasil in hasil_tertinggi:\n",
    "    program = MainProgram(5, hasil[0])\n",
    "    score, presisi, recall, compute = program.startReduce(hasil[1])\n",
    "    hasil[0].replace(\"hasil_ekstraksi_ciri\\lbp\", \"lbp\")\n",
    "    result = [score, presisi, recall, compute]\n",
    "    hasil.extend(result)"
   ]
  },
  {
   "cell_type": "code",
   "execution_count": 6,
   "metadata": {},
   "outputs": [
    {
     "name": "stdout",
     "output_type": "stream",
     "text": [
      "| datasets                                       |   k |   before |   presisi |   recall |   waktu komputasi |   after |   presisi |   recall |   waktu komputasi |\n",
      "|------------------------------------------------+-----+----------+-----------+----------+-------------------+---------+-----------+----------+-------------------|\n",
      "| hasil_ekstraksi_ciri\\lbp3n4resize256zona16.csv |   1 |    64.42 |      0.64 |     0.64 |            105.5  |    46.6 |      0.47 |     0.47 |             32.01 |\n",
      "| hasil_ekstraksi_ciri\\lbp3n4resize256zona16.csv |   3 |    66.73 |      0.67 |     0.67 |            107.16 |    56.2 |      0.56 |     0.56 |             61.93 |\n",
      "| hasil_ekstraksi_ciri\\lbp3n4resize256zona16.csv |   5 |    69.04 |      0.69 |     0.69 |            107.8  |    63.8 |      0.64 |     0.64 |             73.53 |\n",
      "| hasil_ekstraksi_ciri\\lbp3n4resize256zona16.csv |   7 |    68.59 |      0.69 |     0.69 |            108.3  |    65.6 |      0.66 |     0.66 |             66.85 |\n",
      "| hasil_ekstraksi_ciri\\lbp3n4resize256zona16.csv |   9 |    68.4  |      0.68 |     0.68 |            105.72 |    67   |      0.67 |     0.67 |             68.77 |\n",
      "| hasil_ekstraksi_ciri\\lbp3n4resize256zona8.csv  |   1 |    60.86 |      0.61 |     0.61 |             25.38 |    41.2 |      0.41 |     0.41 |              7.05 |\n",
      "| hasil_ekstraksi_ciri\\lbp3n4resize256zona8.csv  |   3 |    60.36 |      0.6  |     0.6  |             26.37 |    50.8 |      0.51 |     0.51 |             11.34 |\n",
      "| hasil_ekstraksi_ciri\\lbp3n4resize256zona8.csv  |   5 |    63.62 |      0.64 |     0.64 |             27.25 |    58.6 |      0.59 |     0.59 |             11.01 |\n",
      "| hasil_ekstraksi_ciri\\lbp3n4resize256zona8.csv  |   7 |    64.23 |      0.64 |     0.64 |             26.96 |    60.4 |      0.6  |     0.6  |             11.7  |\n",
      "| hasil_ekstraksi_ciri\\lbp3n4resize256zona8.csv  |   9 |    63.93 |      0.64 |     0.64 |             27.66 |    62.4 |      0.62 |     0.62 |             12.14 |\n"
     ]
    }
   ],
   "source": [
    "header = [\"datasets\", \"k\", \"before\", \"presisi\", \"recall\", \"waktu komputasi\", \"after\", \"presisi\", \"recall\", \"waktu komputasi\"]\n",
    "showData(header, hasil_tertinggi)"
   ]
  }
 ],
 "metadata": {
  "kernelspec": {
   "display_name": "Python 3",
   "language": "python",
   "name": "python3"
  },
  "language_info": {
   "codemirror_mode": {
    "name": "ipython",
    "version": 3
   },
   "file_extension": ".py",
   "mimetype": "text/x-python",
   "name": "python",
   "nbconvert_exporter": "python",
   "pygments_lexer": "ipython3",
   "version": "3.7.7"
  }
 },
 "nbformat": 4,
 "nbformat_minor": 4
}
