{
 "cells": [
  {
   "cell_type": "code",
   "execution_count": 33,
   "metadata": {},
   "outputs": [],
   "source": [
    "from skimage.feature import local_binary_pattern as lbp\n",
    "from skimage.color import rgb2gray\n",
    "from skimage import data\n",
    "import matplotlib.pyplot as plt\n",
    "import numpy\n",
    "import cv2"
   ]
  },
  {
   "cell_type": "code",
   "execution_count": 90,
   "metadata": {},
   "outputs": [],
   "source": [
    "class EkstraksiCiri:\n",
    "    \n",
    "    def __init__(self, radius):\n",
    "        self.tetangga = 8 * radius\n",
    "        self.radius = radius\n",
    "    \n",
    "    def ekstrakImage(self, image):\n",
    "        grayImage = rgb2gray(image)\n",
    "        lbpResult = lbp(grayImage, self.tetangga, self.radius)\n",
    "        return self.getHistogram(lbpResult)\n",
    "    \n",
    "    def getHistogram(self, lbpResult):\n",
    "        result = numpy.unique(lbpResult, return_counts=True)\n",
    "        return result[1]"
   ]
  }
 ],
 "metadata": {
  "kernelspec": {
   "display_name": "Python 3",
   "language": "python",
   "name": "python3"
  },
  "language_info": {
   "codemirror_mode": {
    "name": "ipython",
    "version": 3
   },
   "file_extension": ".py",
   "mimetype": "text/x-python",
   "name": "python",
   "nbconvert_exporter": "python",
   "pygments_lexer": "ipython3",
   "version": "3.7.7"
  }
 },
 "nbformat": 4,
 "nbformat_minor": 4
}
