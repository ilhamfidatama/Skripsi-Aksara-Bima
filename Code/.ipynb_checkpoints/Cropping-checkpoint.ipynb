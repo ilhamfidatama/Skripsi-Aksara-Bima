{
 "cells": [
  {
   "cell_type": "code",
   "execution_count": 1,
   "metadata": {},
   "outputs": [],
   "source": [
    "import cv2\n",
    "import os\n",
    "import numpy as np"
   ]
  },
  {
   "cell_type": "code",
   "execution_count": 2,
   "metadata": {},
   "outputs": [],
   "source": [
    "def crop_img(file_list, label):\n",
    "    num = 0\n",
    "    for file_name in file_list:\n",
    "        slice_img(convert_to_bw(file_name), num, label)\n",
    "        num+=12"
   ]
  },
  {
   "cell_type": "code",
   "execution_count": 3,
   "metadata": {},
   "outputs": [],
   "source": [
    "def convert_to_bw(file_name):\n",
    "    img = cv2.imread(file_name)\n",
    "    grayImg = cv2.cvtColor(img, cv2.COLOR_BGR2GRAY)\n",
    "    thresh, bwImg = cv2.threshold(grayImg, 127, 255, cv2.THRESH_BINARY)\n",
    "    return bwImg"
   ]
  },
  {
   "cell_type": "code",
   "execution_count": 4,
   "metadata": {},
   "outputs": [],
   "source": [
    "def slice_img(bwImg, num, label):\n",
    "    img_h, img_w = np.shape(bwImg)\n",
    "    split_h = int(img_h/2)\n",
    "    split_w = int(img_w/6)\n",
    "    img_splitted = []\n",
    "    for h in range (10, img_h, split_h):\n",
    "        for w in range(10, img_w, split_w):\n",
    "            img_splitted.append(bwImg[h:h+split_h, w:w+split_w])\n",
    "        h+=split_h\n",
    "    for img in img_splitted:\n",
    "        img = img[10:10+split_h-50, 10:10+split_w-50]\n",
    "#         print('Crop Code/'+label+'/'+label+str(num)+'.jpg')\n",
    "        out_img = cv2.imwrite('Crop Code/'+label+'/'+label+str(num)+'.jpg', img)\n",
    "        num+=1"
   ]
  },
  {
   "cell_type": "code",
   "execution_count": 5,
   "metadata": {},
   "outputs": [],
   "source": [
    "img_dir = \"../cropping\""
   ]
  },
  {
   "cell_type": "code",
   "execution_count": 7,
   "metadata": {},
   "outputs": [],
   "source": [
    "for subdir1 in os.listdir(img_dir):\n",
    "    subdir2 = img_dir+'/'+subdir1\n",
    "    file_list = []\n",
    "    for file in os.listdir(subdir2):\n",
    "        file_path = subdir2+'/'+file\n",
    "        file_list.append(file_path)\n",
    "#         print(file_path)\n",
    "        crop_img(file_list, subdir1)"
   ]
  },
  {
   "cell_type": "code",
   "execution_count": null,
   "metadata": {},
   "outputs": [],
   "source": []
  }
 ],
 "metadata": {
  "kernelspec": {
   "display_name": "Python 3",
   "language": "python",
   "name": "python3"
  },
  "language_info": {
   "codemirror_mode": {
    "name": "ipython",
    "version": 3
   },
   "file_extension": ".py",
   "mimetype": "text/x-python",
   "name": "python",
   "nbconvert_exporter": "python",
   "pygments_lexer": "ipython3",
   "version": "3.7.7"
  }
 },
 "nbformat": 4,
 "nbformat_minor": 4
}
