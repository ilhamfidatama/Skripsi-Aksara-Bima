{
 "cells": [
  {
   "cell_type": "code",
   "execution_count": 1,
   "metadata": {},
   "outputs": [],
   "source": [
    "import cv2\n",
    "import os\n",
    "import numpy as np\n",
    "from matplotlib import pyplot as plt"
   ]
  },
  {
   "cell_type": "code",
   "execution_count": 6,
   "metadata": {},
   "outputs": [],
   "source": [
    "def pemutihan(img, label, filename):\n",
    "    height, width, channels = img.shape\n",
    "    last_col = width - 1\n",
    "    last_row = height - 1\n",
    "    pemutihan = 30\n",
    "    img[0:pemutihan, :] = 255\n",
    "    img[:, 0:pemutihan] = 255\n",
    "    img[(last_row-pemutihan):last_row, :] = 255\n",
    "    img[:, (last_col-pemutihan):last_col] = 255\n",
    "    out_img = cv2.imwrite('Datasets_Mbojo/'+label+'/'+filename, img)"
   ]
  },
  {
   "cell_type": "code",
   "execution_count": 9,
   "metadata": {},
   "outputs": [],
   "source": [
    "img_dir = 'Crop Code'"
   ]
  },
  {
   "cell_type": "code",
   "execution_count": 10,
   "metadata": {},
   "outputs": [],
   "source": [
    "for label in os.listdir(img_dir):\n",
    "    subdir2 = img_dir+'/'+label\n",
    "    for filename in os.listdir(subdir2):\n",
    "        file_path = subdir2+'/'+filename\n",
    "        img = cv2.imread(file_path)\n",
    "        pemutihan(img, label, filename)"
   ]
  },
  {
   "cell_type": "code",
   "execution_count": 7,
   "metadata": {},
   "outputs": [],
   "source": [
    "# img = cv2.imread(img_dir)\n",
    "# pemutihan(img, 'a', '001.jpg')"
   ]
  },
  {
   "cell_type": "code",
   "execution_count": null,
   "metadata": {},
   "outputs": [],
   "source": [
    "# a = np.array([np.arange(0,10,1), np.arange(11,21,1)])\n",
    "# b=3\n",
    "# print(a)\n",
    "# print(a[0,0:(b-1)])\n",
    "# a[0,0:b] += 50\n",
    "# print(a)"
   ]
  }
 ],
 "metadata": {
  "kernelspec": {
   "display_name": "Python 3",
   "language": "python",
   "name": "python3"
  },
  "language_info": {
   "codemirror_mode": {
    "name": "ipython",
    "version": 3
   },
   "file_extension": ".py",
   "mimetype": "text/x-python",
   "name": "python",
   "nbconvert_exporter": "python",
   "pygments_lexer": "ipython3",
   "version": "3.7.7"
  }
 },
 "nbformat": 4,
 "nbformat_minor": 4
}
