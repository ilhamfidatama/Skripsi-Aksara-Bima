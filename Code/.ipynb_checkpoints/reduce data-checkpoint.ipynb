{
 "cells": [
  {
   "cell_type": "code",
   "execution_count": 1,
   "metadata": {},
   "outputs": [],
   "source": [
    "import pandas as pd\n",
    "import numpy\n",
    "from ipynb.fs.full.MainSkenario import Skenario\n",
    "from ipynb.fs.full.ExportCSV import ExportCSV"
   ]
  },
  {
   "cell_type": "code",
   "execution_count": 2,
   "metadata": {},
   "outputs": [],
   "source": [
    "# header_klasifikasi = [\"datasets\", \"k=1\", \"presisi\", \"recall\", \"time\", \"k=3\", \"presisi\", \"recall\", \"time\",\n",
    "#                       \"k=5\", \"presisi\", \"recall\", \"time\", \"k=7\", \"presisi\", \"recall\", \"time\", \"k=9\", \"presisi\", \"recall\", \"time\"]\n",
    "# klasifikasi = ExportCSV(\"hasil_reduksi.csv\")\n",
    "# klasifikasi.createFile(header_klasifikasi)"
   ]
  },
  {
   "cell_type": "code",
   "execution_count": 3,
   "metadata": {},
   "outputs": [],
   "source": [
    "file = pd.read_csv(\"pangkas.csv\")\n",
    "data = numpy.array(file)"
   ]
  },
  {
   "cell_type": "code",
   "execution_count": 4,
   "metadata": {},
   "outputs": [],
   "source": [
    "klasifikasi_k = [1,3,5,7,9]\n",
    "file_reduce = \"hasil_reduksi.csv\"\n",
    "\n",
    "for datasets in data:\n",
    "    filename = datasets[0]\n",
    "    sk = Skenario(0, 0, 0, 0, filename)\n",
    "    result_reduce = [filename]\n",
    "    for k in klasifikasi_k:\n",
    "        result = sk.startReduce(k)\n",
    "        result_reduce.extend(result)\n",
    "    sk.saveHasilKlasifikasi(file_reduce, result_reduce)"
   ]
  }
 ],
 "metadata": {
  "kernelspec": {
   "display_name": "Python 3",
   "language": "python",
   "name": "python3"
  },
  "language_info": {
   "codemirror_mode": {
    "name": "ipython",
    "version": 3
   },
   "file_extension": ".py",
   "mimetype": "text/x-python",
   "name": "python",
   "nbconvert_exporter": "python",
   "pygments_lexer": "ipython3",
   "version": "3.7.7"
  }
 },
 "nbformat": 4,
 "nbformat_minor": 4
}
