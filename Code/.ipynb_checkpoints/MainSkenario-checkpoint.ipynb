{
 "cells": [
  {
   "cell_type": "code",
   "execution_count": 1,
   "metadata": {},
   "outputs": [],
   "source": [
    "from ipynb.fs.full.lbp import EkstraksiCiri\n",
    "from ipynb.fs.full.KNN import Klasifikasi\n",
    "from ipynb.fs.full.KSVNN import Reduksi\n",
    "from ipynb.fs.full.ExportCSV import ExportCSV\n",
    "import numpy\n",
    "import cv2\n",
    "import matplotlib.pyplot as plt\n",
    "import glob\n",
    "#library visualisasi data\n",
    "import termtables as tt\n",
    "from tabulate import tabulate"
   ]
  },
  {
   "cell_type": "code",
   "execution_count": 2,
   "metadata": {},
   "outputs": [],
   "source": [
    "class Skenario:\n",
    "    def __init__(self, lbp, tetangga, resize, zona):\n",
    "        self.lbp = EkstraksiCiri(lbp, tetangga, resize, zona)\n",
    "        filename = \"hasil_ekstraksi_ciri\\lbp\"+str(lbp)+\"n\"+str(tetangga)+\"resize\"+str(resize)+\"zona\"+str(zona)\n",
    "        self.jumlah_fitur = (zona*zona*16)\n",
    "        self.csv = ExportCSV(filename)\n",
    "#         self.csv = ExportCSV(\"lbp\"+str(lbp))\n",
    "        self.folder = \"hasil\"\n",
    "    \n",
    "    def saveCSVHeader(self):\n",
    "        self.csv.saveHeader(self.jumlah_fitur)\n",
    "    \n",
    "    def getDataClass(self, basePath):\n",
    "        result = basePath.replace(self.folder, \"\")\n",
    "        return result[1:]\n",
    "    \n",
    "    def startEkstraksi(self):\n",
    "        basePathImage = self.folder+\"/*\"\n",
    "        for classPath in glob.glob(basePathImage):\n",
    "            dataClass = self.getDataClass(classPath)\n",
    "            classPath = classPath + \"\\*.jpg\"\n",
    "            for data in glob.glob(classPath):\n",
    "                result = [dataClass]\n",
    "                image = cv2.imread(data)\n",
    "                lbpResult = self.lbp.ekstrakImage(image)\n",
    "                result.extend(lbpResult)\n",
    "                self.csv.saveData(result)\n",
    "    \n",
    "    def startKlasifikasi(self, k):\n",
    "        knn = Klasifikasi(k)\n",
    "        data, classData = self.csv.loadData()\n",
    "#         score = knn.proccedCross(data, classData)\n",
    "        score, mean_score = knn.procced(data, classData)\n",
    "        return score\n",
    "    \n",
    "    def startReduce(self, k):\n",
    "        reduce = Reduksi(k)\n",
    "        dataset, datasetClass = self.csv.loadData()\n",
    "        n_split = 4\n",
    "        scores = reduce.startSkenarioReduksi(dataset, datasetClass, split=n_split)\n",
    "        mean = sum(scores)/n_split\n",
    "        return mean\n",
    "\n",
    "    def showResult_tabulate(self, header, data):\n",
    "        print(\n",
    "            tabulate(\n",
    "                data,\n",
    "                headers=header,\n",
    "                tablefmt='orgtbl'\n",
    "            )\n",
    "        )\n",
    "\n",
    "    def showResult_reduce(self, header, data):\n",
    "        dataHeader = header\n",
    "        print(\n",
    "            tabulate(\n",
    "                data,\n",
    "                headers=dataHeader.append(\"reduce\"),\n",
    "                tablefmt='orgtbl'\n",
    "            )\n",
    "        )"
   ]
  },
  {
   "cell_type": "code",
   "execution_count": 3,
   "metadata": {},
   "outputs": [],
   "source": [
    "# header = [\"r.lbp\", \"resize\", \"zoning\", \"k.knn\", \"acur1\", \"acur2\", \"acur3\", \"acur4\"]"
   ]
  },
  {
   "cell_type": "markdown",
   "metadata": {},
   "source": [
    "# Skenario tanpa reduksi"
   ]
  },
  {
   "cell_type": "code",
   "execution_count": 4,
   "metadata": {},
   "outputs": [
    {
     "name": "stdout",
     "output_type": "stream",
     "text": [
      "waktu komputasi : 17862.471403598785\n"
     ]
    }
   ],
   "source": [
    "import time\n",
    "# starting time\n",
    "start = time.time()\n",
    "\n",
    "skenario_radius_lbp = [1,2,3,4,5]\n",
    "skenario_resize = [32, 64, 128, 256]\n",
    "skenario_zoning = [2, 4, 8, 16]\n",
    "skenarioKNN = [1,3,5,7,9]\n",
    "result = []\n",
    "for radius in skenario_radius_lbp:\n",
    "    for resize in skenario_resize:\n",
    "        for zoning in skenario_zoning:\n",
    "            skenario = Skenario(radius, 4, resize, zoning)\n",
    "            skenario.saveCSVHeader()\n",
    "            skenario.startEkstraksi()\n",
    "            for knn in skenarioKNN:\n",
    "                score = skenario.startKlasifikasi(knn)\n",
    "                data = [radius, resize, zoning, knn]\n",
    "                data.extend(score)\n",
    "                result.append(data)\n",
    "end = time.time()\n",
    "print(\"waktu komputasi :\", (end-start))"
   ]
  },
  {
   "cell_type": "code",
   "execution_count": 12,
   "metadata": {},
   "outputs": [
    {
     "name": "stdout",
     "output_type": "stream",
     "text": [
      "|   r.lbp |   resize |   zoning |   k.knn |   acur1 |   acur2 |   acur3 |   acur4 |   reduce |\n",
      "|---------+----------+----------+---------+---------+---------+---------+---------+----------|\n",
      "|       1 |      256 |        8 |       1 |   58.79 |   61.06 |   59.24 |   60.55 |  40.3925 |\n",
      "|       1 |      256 |        8 |       3 |   57.12 |   61.97 |   61.97 |   56.3  |  49.45   |\n",
      "|       1 |      256 |        8 |       5 |   57.58 |   59.09 |   63.03 |   60.39 |  54.3025 |\n",
      "|       1 |      256 |        8 |       7 |   59.39 |   58.94 |   62.12 |   63.88 |  57.9025 |\n",
      "|       1 |      256 |        8 |       9 |   66.82 |   63.03 |   60.3  |   59.33 |  59.6825 |\n",
      "|       1 |      256 |       16 |       1 |   60.45 |   57.88 |   57.12 |   60.85 |  39.7125 |\n",
      "|       1 |      256 |       16 |       3 |   58.33 |   61.97 |   59.09 |   59.33 |  50.3975 |\n",
      "|       1 |      256 |       16 |       5 |   61.67 |   61.97 |   63.48 |   62.52 |  58.6575 |\n",
      "|       1 |      256 |       16 |       7 |   66.52 |   61.67 |   61.21 |   64.34 |  60.135  |\n",
      "|       1 |      256 |       16 |       9 |   60.91 |   63.03 |   61.97 |   66.16 |  60.97   |\n",
      "|       2 |      256 |        8 |       1 |   60.3  |   56.21 |   56.82 |   55.69 |  41.1925 |\n",
      "|       2 |      256 |        8 |       5 |   60.15 |   58.03 |   58.79 |   59.94 |  55.6275 |\n",
      "|       2 |      256 |        8 |       7 |   59.09 |   62.58 |   56.97 |   60.24 |  56.915  |\n",
      "|       2 |      256 |        8 |       9 |   61.52 |   61.52 |   58.18 |   62.22 |  59.5325 |\n",
      "|       2 |      256 |       16 |       1 |   62.12 |   59.55 |   63.33 |   63.13 |  42.0975 |\n",
      "|       2 |      256 |       16 |       3 |   59.55 |   61.21 |   61.21 |   61.61 |  52.1775 |\n",
      "|       2 |      256 |       16 |       5 |   65.61 |   66.21 |   64.7  |   62.06 |  60.705  |\n",
      "|       2 |      256 |       16 |       7 |   66.36 |   62.27 |   63.79 |   66.01 |  62.5225 |\n",
      "|       2 |      256 |       16 |       9 |   64.55 |   68.48 |   62.58 |   65.1  |  63.9275 |\n",
      "|       3 |      128 |        8 |       9 |   60.61 |   56.36 |   56.52 |   59.48 |  57.03   |\n",
      "|       3 |      256 |        8 |       1 |   61.06 |   59.09 |   62.12 |   61.46 |  40.58   |\n",
      "|       3 |      256 |        8 |       3 |   60.76 |   60.91 |   60.61 |   60.24 |  50.36   |\n",
      "|       3 |      256 |        8 |       5 |   63.48 |   61.97 |   61.36 |   64.49 |  58.7375 |\n",
      "|       3 |      256 |        8 |       7 |   64.85 |   59.7  |   67.42 |   61.31 |  61.0475 |\n",
      "|       3 |      256 |        8 |       9 |   63.64 |   62.73 |   61.06 |   64.8  |  62.0675 |\n",
      "|       3 |      256 |       16 |       1 |   64.24 |   65.45 |   65.45 |   65.86 |  44.6375 |\n",
      "|       3 |      256 |       16 |       3 |   70.61 |   63.94 |   67.88 |   62.97 |  55.74   |\n",
      "|       3 |      256 |       16 |       5 |   66.82 |   69.55 |   67.27 |   68.13 |  64.035  |\n",
      "|       3 |      256 |       16 |       7 |   68.79 |   66.52 |   70.45 |   67.37 |  65.82   |\n",
      "|       3 |      256 |       16 |       9 |   67.27 |   66.21 |   72.27 |   65.4  |  65.935  |\n",
      "|       4 |       32 |        8 |       1 |   58.48 |   58.79 |   59.09 |   60.85 |  41.53   |\n",
      "|       4 |       64 |       16 |       1 |   80.45 |   81.67 |   80.15 |   79.51 |  47.29   |\n",
      "|       4 |       64 |       16 |       3 |   75.61 |   76.67 |   78.64 |   77.24 |  61.65   |\n",
      "|       4 |       64 |       16 |       5 |   75.76 |   76.36 |   78.94 |   74.81 |  70.4425 |\n",
      "|       4 |       64 |       16 |       7 |   75.45 |   74.7  |   74.39 |   74.36 |  72.68   |\n",
      "|       4 |       64 |       16 |       9 |   72.58 |   75.61 |   73.03 |   71.93 |  73.55   |\n",
      "|       4 |      128 |        8 |       5 |   61.52 |   59.85 |   60.15 |   57.81 |  53.5475 |\n",
      "|       4 |      128 |        8 |       7 |   58.48 |   60.45 |   62.42 |   61.46 |  59.3    |\n",
      "|       4 |      128 |        8 |       9 |   61.97 |   63.48 |   59.7  |   60.55 |  59.6075 |\n",
      "|       4 |      128 |       16 |       1 |   60.3  |   60.61 |   56.52 |   59.79 |  42.0625 |\n",
      "|       4 |      128 |       16 |       3 |   60.3  |   60.91 |   60    |   61.46 |  51.6475 |\n",
      "|       4 |      128 |       16 |       5 |   60    |   63.03 |   65.15 |   64.95 |  59.415  |\n",
      "|       4 |      128 |       16 |       7 |   68.33 |   65.3  |   62.42 |   61    |  62.7525 |\n",
      "|       4 |      128 |       16 |       9 |   65.76 |   62.42 |   64.39 |   63.28 |  64.04   |\n",
      "|       4 |      256 |        8 |       1 |   61.67 |   62.42 |   62.27 |   59.79 |  41.155  |\n",
      "|       4 |      256 |        8 |       3 |   61.21 |   58.18 |   62.42 |   60.85 |  49.49   |\n",
      "|       4 |      256 |        8 |       5 |   62.73 |   62.58 |   64.85 |   60.85 |  57.2175 |\n",
      "|       4 |      256 |        8 |       7 |   63.94 |   61.82 |   63.33 |   64.34 |  60.025  |\n",
      "|       4 |      256 |        8 |       9 |   65.61 |   66.52 |   62.12 |   61.61 |  60.215  |\n",
      "|       4 |      256 |       16 |       1 |   64.24 |   65.91 |   65.76 |   67.68 |  44.1075 |\n",
      "|       4 |      256 |       16 |       3 |   64.09 |   68.03 |   63.94 |   68.13 |  55.8175 |\n",
      "|       4 |      256 |       16 |       5 |   69.24 |   69.7  |   68.79 |   70.86 |  63.0175 |\n",
      "|       4 |      256 |       16 |       7 |   67.12 |   68.03 |   68.03 |   69.2  |  66.2375 |\n",
      "|       4 |      256 |       16 |       9 |   70.61 |   67.27 |   68.03 |   65.25 |  65.82   |\n",
      "|       5 |       64 |       16 |       1 |   78.79 |   78.64 |   80.45 |   81.64 |  47.8225 |\n",
      "|       5 |       64 |       16 |       3 |   78.79 |   74.85 |   77.58 |   79.21 |  61.9925 |\n",
      "|       5 |       64 |       16 |       5 |   77.12 |   76.06 |   73.94 |   78.15 |  70.67   |\n",
      "|       5 |       64 |       16 |       7 |   73.79 |   76.82 |   75.76 |   73.9  |  72.6025 |\n",
      "|       5 |       64 |       16 |       9 |   73.48 |   73.18 |   71.97 |   73.44 |  71.7675 |\n",
      "|       5 |      128 |        8 |       5 |   62.42 |   57.73 |   59.09 |   59.18 |  56.6875 |\n",
      "|       5 |      128 |        8 |       7 |   60.15 |   60    |   61.67 |   59.18 |  58.2775 |\n",
      "|       5 |      128 |        8 |       9 |   60    |   60.3  |   61.82 |   62.06 |  59.3425 |\n",
      "|       5 |      128 |       16 |       1 |   62.42 |   64.24 |   57.42 |   62.97 |  44.3725 |\n",
      "|       5 |      128 |       16 |       3 |   63.03 |   62.73 |   65.61 |   62.97 |  55.59   |\n",
      "|       5 |      128 |       16 |       5 |   65    |   64.09 |   65.76 |   65.1  |  61.275  |\n",
      "|       5 |      128 |       16 |       7 |   62.88 |   62.42 |   66.52 |   63.73 |  63.5475 |\n",
      "|       5 |      128 |       16 |       9 |   62.42 |   62.42 |   66.97 |   66.31 |  63.47   |\n",
      "|       5 |      256 |        8 |       1 |   65.45 |   62.88 |   63.79 |   64.95 |  41.4575 |\n",
      "|       5 |      256 |        8 |       3 |   63.03 |   63.79 |   63.79 |   66.92 |  53.355  |\n",
      "|       5 |      256 |        8 |       5 |   63.03 |   67.42 |   65.61 |   65.86 |  59.53   |\n",
      "|       5 |      256 |        8 |       7 |   67.42 |   68.33 |   69.09 |   67.07 |  62.1075 |\n",
      "|       5 |      256 |        8 |       9 |   62.73 |   63.94 |   69.09 |   64.95 |  62.45   |\n",
      "|       5 |      256 |       16 |       1 |   65.76 |   64.09 |   68.64 |   63.88 |  45.2425 |\n",
      "|       5 |      256 |       16 |       3 |   67.58 |   65.15 |   64.24 |   70.11 |  56.725  |\n",
      "|       5 |      256 |       16 |       5 |   68.33 |   71.36 |   67.88 |   67.22 |  64.6425 |\n",
      "|       5 |      256 |       16 |       7 |   69.39 |   66.67 |   64.7  |   69.5  |  66.2025 |\n",
      "|       5 |      256 |       16 |       9 |   68.79 |   69.39 |   68.79 |   68.89 |  66.3125 |\n"
     ]
    }
   ],
   "source": [
    "hasil_tertinggi = [row for row in result if row[4] > 60.0 or row[5] > 60 or row[6] > 60 or row[7] > 60]\n",
    "showResult_tabulate(hasil_tertinggi)"
   ]
  },
  {
   "cell_type": "markdown",
   "metadata": {},
   "source": [
    "# Skenario dengan reduksi"
   ]
  },
  {
   "cell_type": "code",
   "execution_count": 6,
   "metadata": {},
   "outputs": [],
   "source": [
    "result_reduksi = []\n",
    "for data in hasil_tertinggi:\n",
    "    skenario = Skenario(data[0], 4, data[1], data[2])\n",
    "    mean_score = skenario.startReduce(data[3])\n",
    "    data.append(mean_score)\n",
    "    result_reduksi.append(data)"
   ]
  },
  {
   "cell_type": "code",
   "execution_count": null,
   "metadata": {},
   "outputs": [],
   "source": []
  }
 ],
 "metadata": {
  "kernelspec": {
   "display_name": "Python 3",
   "language": "python",
   "name": "python3"
  },
  "language_info": {
   "codemirror_mode": {
    "name": "ipython",
    "version": 3
   },
   "file_extension": ".py",
   "mimetype": "text/x-python",
   "name": "python",
   "nbconvert_exporter": "python",
   "pygments_lexer": "ipython3",
   "version": "3.7.7"
  }
 },
 "nbformat": 4,
 "nbformat_minor": 4
}
