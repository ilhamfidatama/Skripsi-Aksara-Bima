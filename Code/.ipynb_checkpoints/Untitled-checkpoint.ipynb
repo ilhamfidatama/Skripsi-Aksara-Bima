{
 "cells": [
  {
   "cell_type": "code",
   "execution_count": 6,
   "metadata": {},
   "outputs": [],
   "source": [
    "import cv2\n",
    "import matplotlib.pyplot as plt\n",
    "import numpy\n",
    "from PIL import Image\n",
    "# from IPython.display import display, Image"
   ]
  },
  {
   "cell_type": "code",
   "execution_count": 2,
   "metadata": {},
   "outputs": [],
   "source": [
    "def showImage(img, filename):\n",
    "    sh = Image.fromarray(img)\n",
    "    path = \"sample image/\"+filename+\".PNG\"\n",
    "    print(path)\n",
    "    sh.save(path)\n",
    "    sh.show()"
   ]
  },
  {
   "cell_type": "code",
   "execution_count": 3,
   "metadata": {},
   "outputs": [
    {
     "name": "stdout",
     "output_type": "stream",
     "text": [
      "sample image/grayscale.PNG\n"
     ]
    }
   ],
   "source": [
    "img = cv2.imread(\"a36.jpg\")\n",
    "img = cv2.resize(img, (512,512), interpolation = cv2.INTER_AREA)\n",
    "#convert grayscale\n",
    "grayImg = cv2.cvtColor(img, cv2.COLOR_BGR2GRAY)\n",
    "showImage(grayImg, \"grayscale\")"
   ]
  },
  {
   "cell_type": "code",
   "execution_count": 4,
   "metadata": {},
   "outputs": [
    {
     "name": "stdout",
     "output_type": "stream",
     "text": [
      "sample image/black and white.PNG\n"
     ]
    }
   ],
   "source": [
    "#convert black and white\n",
    "thresh, bwImg = cv2.threshold(grayImg, 127, 255, cv2.THRESH_BINARY)\n",
    "showImage(bwImg, \"black and white\")"
   ]
  },
  {
   "cell_type": "code",
   "execution_count": 5,
   "metadata": {},
   "outputs": [
    {
     "name": "stdout",
     "output_type": "stream",
     "text": [
      "sample image/black and white 1.PNG\n"
     ]
    }
   ],
   "source": [
    "img2 = numpy.where(bwImg==0, 255, 0)\n",
    "showImage(img2, \"black and white 1\")"
   ]
  },
  {
   "cell_type": "code",
   "execution_count": null,
   "metadata": {},
   "outputs": [],
   "source": [
    "#dilasi\n",
    "kernel = numpy.ones((5,5),numpy.uint8)\n",
    "img3 = cv2.dilate(img2.astype('uint8'), kernel, iterations=2)\n",
    "cv2.imshow(\"coba\", img3)\n",
    "cv2.waitKey(0)"
   ]
  },
  {
   "cell_type": "code",
   "execution_count": null,
   "metadata": {},
   "outputs": [],
   "source": [
    "#opening\n",
    "opening = cv2.morphologyEx(img3, cv2.MORPH_OPEN, kernel)\n",
    "img4 = numpy.where(opening==255, 0, 255)\n",
    "plt.imshow(img4)"
   ]
  }
 ],
 "metadata": {
  "kernelspec": {
   "display_name": "Python 3",
   "language": "python",
   "name": "python3"
  },
  "language_info": {
   "codemirror_mode": {
    "name": "ipython",
    "version": 3
   },
   "file_extension": ".py",
   "mimetype": "text/x-python",
   "name": "python",
   "nbconvert_exporter": "python",
   "pygments_lexer": "ipython3",
   "version": "3.7.7"
  }
 },
 "nbformat": 4,
 "nbformat_minor": 4
}
