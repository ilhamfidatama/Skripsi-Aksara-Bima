{
 "cells": [
  {
   "cell_type": "code",
   "execution_count": 3,
   "metadata": {},
   "outputs": [],
   "source": [
    "#Function get DCT feture vector \n",
    "from scipy.fftpack import dct, idct\n",
    "from skimage.measure import compare_mse\n",
    "from ipynb.fs.full.lbp import EkstraksiCiri"
   ]
  },
  {
   "cell_type": "code",
   "execution_count": 2,
   "metadata": {},
   "outputs": [],
   "source": [
    "class DCT:\n",
    "    def dct2(block):\n",
    "        return dct(dct(block.T, norm='ortho').T, norm='ortho')\n",
    "\n",
    "    def idct2(block):\n",
    "        return idct(idct(block.T, norm='ortho').T, norm='ortho')\n",
    "\n",
    "    #Extract DCT features of Image\n",
    "    def zigZag(mat):\n",
    "        rows=len(mat)\n",
    "        columns=len(mat[0])\n",
    "\n",
    "        solution=[[] for i in range(rows+columns-1)] \n",
    "\n",
    "        for i in range(rows): \n",
    "            for j in range(columns): \n",
    "                sum=i+j \n",
    "                if(sum%2 ==0): \n",
    "\n",
    "                    #add at beginning \n",
    "                    solution[sum].insert(0,mat[i][j]) \n",
    "                else: \n",
    "\n",
    "                    #add at end of the list \n",
    "                    solution[sum].append(mat[i][j]) \n",
    "\n",
    "        return np.concatenate(solution,axis=None)\n",
    "\n",
    "    def getDctFeatures(img,num):\n",
    "        #Init\n",
    "        n=math.ceil(sqrt(num))\n",
    "        cD = dct2(img)\n",
    "        cD = zigZag(cD[0:n,0:n])\n",
    "        cD = cD[0:num]\n",
    "        return (cD/sqrt(cD @ cD))\n",
    "    \n",
    "    def getDCT(dt):\n",
    "        hfDCT=[]\n",
    "        nFeat=48\n",
    "        for i in range(dt.shape[0]):\n",
    "            t=getDctFeatures(dt[i],nFeat)\n",
    "            hfDCT=np.concatenate((hfDCT, t), axis=None)\n",
    "\n",
    "        hfDCT=np.reshape(hfDCT,(round(hfDCT.size/nFeat),nFeat))\n",
    "        return hfDCT"
   ]
  }
 ],
 "metadata": {
  "kernelspec": {
   "display_name": "Python 3",
   "language": "python",
   "name": "python3"
  },
  "language_info": {
   "codemirror_mode": {
    "name": "ipython",
    "version": 3
   },
   "file_extension": ".py",
   "mimetype": "text/x-python",
   "name": "python",
   "nbconvert_exporter": "python",
   "pygments_lexer": "ipython3",
   "version": "3.7.7"
  }
 },
 "nbformat": 4,
 "nbformat_minor": 4
}
