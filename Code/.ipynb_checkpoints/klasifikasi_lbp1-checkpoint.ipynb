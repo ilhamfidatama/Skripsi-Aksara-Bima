{
 "cells": [
  {
   "cell_type": "markdown",
   "metadata": {},
   "source": [
    "# Data ciri LBP 1"
   ]
  },
  {
   "cell_type": "code",
   "execution_count": null,
   "metadata": {},
   "outputs": [],
   "source": [
    "from ipynb.fs.full.klasifikasi_baru import MainProgram\n",
    "#library visualisasi data\n",
    "from tabulate import tabulate\n",
    "import time\n",
    "import glob"
   ]
  },
  {
   "cell_type": "code",
   "execution_count": null,
   "metadata": {},
   "outputs": [],
   "source": [
    "def showData( header, data):\n",
    "        cetak = tabulate(data, headers=header, tablefmt='orgtbl')\n",
    "        print(cetak)"
   ]
  },
  {
   "cell_type": "code",
   "execution_count": null,
   "metadata": {},
   "outputs": [],
   "source": [
    "start = time.time()\n",
    "start_index = 1\n",
    "end_index = 16\n",
    "result = []\n",
    "skenario_klasifikasi = [1,3,5,7,9]\n",
    "header = [\"datasets\", \"k\", \"before\", \"presisi\", \"recall\", \"waktu komputasi\", \"after\", \"presisi\", \"recall\", \"waktu komputasi\"]\n",
    "for ekstrak in glob.glob(\"hasil_ekstraksi_ciri/*\"):\n",
    "    if(start_index > end_index):\n",
    "        break\n",
    "    for k in skenario_klasifikasi:\n",
    "        program = MainProgram(5, ekstrak)\n",
    "        score, presisi, recall, compute = program.startKlasifikasi(k)\n",
    "        data = [ekstrak, k, score, presisi, recall, compute]\n",
    "        result.append(data)\n",
    "    start_index += 1\n",
    "    \n",
    "end = time.time()\n",
    "print(\"waktu komputasi :\", (end-start))"
   ]
  },
  {
   "cell_type": "code",
   "execution_count": null,
   "metadata": {},
   "outputs": [],
   "source": [
    "header = [\"datasets\", \"k\", \"before\", \"presisi\", \"recall\", \"waktu komputasi\"]\n",
    "hasil_tertinggi = [row for row in result if row[2] > 60]\n",
    "showData(header, hasil_tertinggi)"
   ]
  },
  {
   "cell_type": "code",
   "execution_count": null,
   "metadata": {},
   "outputs": [],
   "source": [
    "for hasil in hasil_tertinggi:\n",
    "    program = MainProgram(5, hasil[0])\n",
    "    score, presisi, recall, compute = program.startReduce(hasil[1])\n",
    "    hasil[0].replace(\"hasil_ekstraksi_ciri\\lbp\", \"lbp\")\n",
    "    result = [score, presisi, recall, compute]\n",
    "    hasil.extend(result)"
   ]
  },
  {
   "cell_type": "code",
   "execution_count": null,
   "metadata": {},
   "outputs": [],
   "source": [
    "header = [\"datasets\", \"k\", \"before\", \"presisi\", \"recall\", \"waktu komputasi\", \"after\", \"presisi\", \"recall\", \"waktu komputasi\"]\n",
    "showData(header, hasil_tertinggi)"
   ]
  }
 ],
 "metadata": {
  "kernelspec": {
   "display_name": "Python 3",
   "language": "python",
   "name": "python3"
  },
  "language_info": {
   "codemirror_mode": {
    "name": "ipython",
    "version": 3
   },
   "file_extension": ".py",
   "mimetype": "text/x-python",
   "name": "python",
   "nbconvert_exporter": "python",
   "pygments_lexer": "ipython3",
   "version": "3.7.7"
  }
 },
 "nbformat": 4,
 "nbformat_minor": 4
}
