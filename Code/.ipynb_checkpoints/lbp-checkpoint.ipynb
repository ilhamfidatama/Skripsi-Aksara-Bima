{
 "cells": [
  {
   "cell_type": "code",
   "execution_count": 81,
   "metadata": {},
   "outputs": [],
   "source": [
    "from skimage.feature import local_binary_pattern as lbp\n",
    "from skimage.color import rgb2gray\n",
    "from skimage import data\n",
    "import numpy\n",
    "import cv2"
   ]
  },
  {
   "cell_type": "code",
   "execution_count": 82,
   "metadata": {},
   "outputs": [],
   "source": [
    "class EkstraksiCiri:\n",
    "    \n",
    "    def __init__(self, radius):\n",
    "        self.tetangga = 8 * radius\n",
    "        self.radius = radius\n",
    "    \n",
    "    def ekstrakImage(self, image):\n",
    "        grayImage = rgb2gray(image)\n",
    "        lbpResult = lbp(grayImage, self.tetangga, self.radius)\n",
    "#         return lbpResult\n",
    "        return self.histogram(lbpResult)\n",
    "    \n",
    "    def histogram(self, lbpResult):\n",
    "        hist, value = numpy.histogram(lbpResult)\n",
    "        print(\"hist:\", hist)\n",
    "        print(\"value:\", value)\n",
    "        return hist"
   ]
  },
  {
   "cell_type": "code",
   "execution_count": 83,
   "metadata": {},
   "outputs": [
    {
     "name": "stdout",
     "output_type": "stream",
     "text": [
      "hist: [33576 13123 28571  4963 34400 17625  2774 33764 14827 78521]\n",
      "value: [  0.   25.5  51.   76.5 102.  127.5 153.  178.5 204.  229.5 255. ]\n",
      "hist: [  963   488   329   195   474    82    27   354   182 29848]\n",
      "value: [  0.   25.5  51.   76.5 102.  127.5 153.  178.5 204.  229.5 255. ]\n",
      "10\n",
      "10\n"
     ]
    },
    {
     "name": "stderr",
     "output_type": "stream",
     "text": [
      "c:\\users\\ilham\\appdata\\local\\programs\\python\\python37\\lib\\site-packages\\ipykernel_launcher.py:8: FutureWarning: The behavior of rgb2gray will change in scikit-image 0.19. Currently, rgb2gray allows 2D grayscale image to be passed as inputs and leaves them unmodified as outputs. Starting from version 0.19, 2D arrays will be treated as 1D images with 3 channels.\n",
      "  \n"
     ]
    }
   ],
   "source": [
    "image = data.brick()\n",
    "dataset = cv2.imread(\"../dataset_aksara/a/a0.jpg\")\n",
    "ekstrak = EkstraksiCiri(1)\n",
    "result = ekstrak.ekstrakImage(image)\n",
    "resultDataset = ekstrak.ekstrakImage(dataset)\n",
    "print(result.size)\n",
    "print(resultDataset.size)"
   ]
  },
  {
   "cell_type": "code",
   "execution_count": 80,
   "metadata": {},
   "outputs": [
    {
     "name": "stdout",
     "output_type": "stream",
     "text": [
      "11\n"
     ]
    }
   ],
   "source": [
    "a = range(1,255)"
   ]
  }
 ],
 "metadata": {
  "kernelspec": {
   "display_name": "Python 3",
   "language": "python",
   "name": "python3"
  },
  "language_info": {
   "codemirror_mode": {
    "name": "ipython",
    "version": 3
   },
   "file_extension": ".py",
   "mimetype": "text/x-python",
   "name": "python",
   "nbconvert_exporter": "python",
   "pygments_lexer": "ipython3",
   "version": "3.7.7"
  }
 },
 "nbformat": 4,
 "nbformat_minor": 4
}
