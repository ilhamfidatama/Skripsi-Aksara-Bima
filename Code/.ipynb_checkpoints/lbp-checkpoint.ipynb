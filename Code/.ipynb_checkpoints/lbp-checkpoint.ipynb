{
 "cells": [
  {
   "cell_type": "code",
   "execution_count": 1,
   "metadata": {},
   "outputs": [],
   "source": [
    "from skimage.feature import local_binary_pattern as lbp\n",
    "from skimage.color import rgb2gray\n",
    "from skimage import data\n",
    "import matplotlib.pyplot as plt\n",
    "import numpy\n",
    "import cv2"
   ]
  },
  {
   "cell_type": "code",
   "execution_count": 2,
   "metadata": {},
   "outputs": [],
   "source": [
    "class EkstraksiCiri:\n",
    "    \n",
    "    def __init__(self, radius, tetangga, resize, zoning):\n",
    "        self.radius = radius\n",
    "        self.tetangga = tetangga\n",
    "        self.resize = resize\n",
    "        self.zoning = zoning\n",
    "        \n",
    "    def forbitImage(self, grayscale):\n",
    "        maks = max(grayscale.flatten())\n",
    "        minm = min(grayscale.flatten())\n",
    "        forbit = ((grayscale-minm)/(maks-minm))*15\n",
    "        return forbit\n",
    "    \n",
    "    def pre_processing(self, img):\n",
    "        #convert grayscale\n",
    "        grayImg = cv2.cvtColor(img, cv2.COLOR_BGR2GRAY)\n",
    "        #convert black and white\n",
    "        thresh, bwImg = cv2.threshold(grayImg, 127, 255, cv2.THRESH_BINARY)\n",
    "        img2 = numpy.where(bwImg==0, 255, 0)\n",
    "        #dilasi\n",
    "        kernel = numpy.ones((5,5),numpy.uint8)\n",
    "        img3 = cv2.dilate(img2.astype('uint8'), kernel, iterations=2)\n",
    "        #opening\n",
    "        opening = cv2.morphologyEx(img3, cv2.MORPH_OPEN, kernel)\n",
    "        image = img4 = numpy.where(opening==255, 0, 255)\n",
    "        return image\n",
    "        \n",
    "    \n",
    "    def ekstrakImage(self, image):\n",
    "        grayscale = self.pre_processing(image)\n",
    "#         grayscale = cv2.cvtColor(image, cv2.COLOR_BGR2GRAY)\n",
    "        forbit = self.forbitImage(grayscale)\n",
    "        img = cv2.resize(forbit, (self.resize,self.resize), interpolation = cv2.INTER_AREA)\n",
    "        zoning = self.zoningImage(img)\n",
    "        return self.lbpProcced(zoning)\n",
    "    \n",
    "    def lbpProcced(self, img_zoning):\n",
    "        result = []\n",
    "        for img in img_zoning:\n",
    "            lbpResult = lbp(img, self.tetangga, self.radius)\n",
    "            hist, value = numpy.histogram(lbpResult.ravel(), bins=numpy.arange(17), range=(0,16))\n",
    "            result.extend(hist)\n",
    "        return result\n",
    "    \n",
    "    def zoningImage(self, img):\n",
    "        size_zone = self.resize/self.zoning\n",
    "        pembagian = numpy.arange(0, self.resize+1, size_zone, dtype=numpy.int64)\n",
    "        zona = []\n",
    "        row = 0\n",
    "        while row < (pembagian.size-1):\n",
    "            if row == 0: rowStart, rowEnd = pembagian[row], pembagian[(row+1)]-1\n",
    "            else : rowStart, rowEnd = pembagian[row], pembagian[(row+1)]-1\n",
    "            col = 0\n",
    "            while col < (pembagian.size-1):\n",
    "                if col == 0: colStart, colEnd = pembagian[col], pembagian[(col+1)]-1\n",
    "                else : colStart, colEnd = pembagian[col], pembagian[(col+1)]-1\n",
    "                image = img[rowStart:(rowEnd+1), colStart:(colEnd+1)]\n",
    "                zona.append(image)\n",
    "                col += 1\n",
    "            row += 1\n",
    "        return zona"
   ]
  },
  {
   "cell_type": "code",
   "execution_count": 3,
   "metadata": {},
   "outputs": [],
   "source": [
    "size = 32\n",
    "zona = 4\n",
    "size_zone = size/zona\n",
    "img = numpy.random.rand(size, size)\n",
    "# print(img.shape)\n",
    "pembagian = numpy.arange(0, size+1, size_zone, dtype=numpy.int64)\n",
    "# print(pembagian)"
   ]
  },
  {
   "cell_type": "code",
   "execution_count": 4,
   "metadata": {},
   "outputs": [],
   "source": [
    "zona = []\n",
    "row = 0\n",
    "while row < (pembagian.size-1):\n",
    "    if row == 0: rowStart, rowEnd = pembagian[row], pembagian[(row+1)]-1\n",
    "    else : rowStart, rowEnd = pembagian[row], pembagian[(row+1)]-1\n",
    "    col = 0\n",
    "    while col < (pembagian.size-1):\n",
    "        if col == 0: colStart, colEnd = pembagian[col], pembagian[(col+1)]-1\n",
    "        else : colStart, colEnd = pembagian[col], pembagian[(col+1)]-1\n",
    "#         print(\"baris-\", row, \":\", rowStart, (rowEnd+1))\n",
    "#         print(\"kolom-\", col, \":\", colStart, (colEnd+1))\n",
    "        image = img[rowStart:(rowEnd+1), colStart:(colEnd+1)]\n",
    "#         print(\"===================================================\")\n",
    "        zona.append(image)\n",
    "        col += 1\n",
    "    row += 1"
   ]
  }
 ],
 "metadata": {
  "kernelspec": {
   "display_name": "Python 3",
   "language": "python",
   "name": "python3"
  },
  "language_info": {
   "codemirror_mode": {
    "name": "ipython",
    "version": 3
   },
   "file_extension": ".py",
   "mimetype": "text/x-python",
   "name": "python",
   "nbconvert_exporter": "python",
   "pygments_lexer": "ipython3",
   "version": "3.7.7"
  }
 },
 "nbformat": 4,
 "nbformat_minor": 4
}
