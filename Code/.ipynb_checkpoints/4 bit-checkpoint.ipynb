{
 "cells": [
  {
   "cell_type": "code",
   "execution_count": 2,
   "metadata": {},
   "outputs": [],
   "source": [
    "import cv2\n",
    "import matplotlib.pyplot as plt\n",
    "import glob\n",
    "import os"
   ]
  },
  {
   "cell_type": "code",
   "execution_count": 3,
   "metadata": {},
   "outputs": [],
   "source": [
    "def convert_save(filepath, filename, label):\n",
    "    img = cv2.imread(filepath)\n",
    "    grayscale = cv2.cvtColor(img, cv2.COLOR_BGR2GRAY)\n",
    "    maks = max(grayscale.flatten())\n",
    "    minm = min(grayscale.flatten())\n",
    "    forbit = ((grayscale-minm)/(maks-minm))*15\n",
    "    cv2.imwrite('4 bit/'+label+'/'+filename, img)"
   ]
  },
  {
   "cell_type": "code",
   "execution_count": 6,
   "metadata": {},
   "outputs": [],
   "source": [
    "img_dir = \"hasil\""
   ]
  },
  {
   "cell_type": "code",
   "execution_count": 8,
   "metadata": {},
   "outputs": [],
   "source": [
    "for subdir1 in os.listdir(img_dir):\n",
    "    subdir2 = img_dir+'/'+subdir1\n",
    "    for file in os.listdir(subdir2):\n",
    "        file_path = subdir2+'/'+file\n",
    "        convert_save(file_path, file, subdir1)"
   ]
  }
 ],
 "metadata": {
  "kernelspec": {
   "display_name": "Python 3",
   "language": "python",
   "name": "python3"
  },
  "language_info": {
   "codemirror_mode": {
    "name": "ipython",
    "version": 3
   },
   "file_extension": ".py",
   "mimetype": "text/x-python",
   "name": "python",
   "nbconvert_exporter": "python",
   "pygments_lexer": "ipython3",
   "version": "3.7.7"
  }
 },
 "nbformat": 4,
 "nbformat_minor": 4
}
