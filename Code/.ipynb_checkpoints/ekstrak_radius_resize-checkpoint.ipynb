{
 "cells": [
  {
   "cell_type": "code",
   "execution_count": 1,
   "metadata": {},
   "outputs": [],
   "source": [
    "from ipynb.fs.full.MainSkenario import Skenario"
   ]
  },
  {
   "cell_type": "markdown",
   "metadata": {},
   "source": [
    "# Skenario dengan resize"
   ]
  },
  {
   "cell_type": "code",
   "execution_count": 2,
   "metadata": {},
   "outputs": [
    {
     "ename": "NameError",
     "evalue": "name 'radius_lbp' is not defined",
     "output_type": "error",
     "traceback": [
      "\u001b[1;31m---------------------------------------------------------------------------\u001b[0m",
      "\u001b[1;31mNameError\u001b[0m                                 Traceback (most recent call last)",
      "\u001b[1;32m<ipython-input-2-5ad5b0684230>\u001b[0m in \u001b[0;36m<module>\u001b[1;34m\u001b[0m\n\u001b[0;32m      1\u001b[0m \u001b[0mresize_dataset\u001b[0m \u001b[1;33m=\u001b[0m \u001b[1;33m[\u001b[0m\u001b[1;36m32\u001b[0m\u001b[1;33m,\u001b[0m \u001b[1;36m64\u001b[0m\u001b[1;33m,\u001b[0m \u001b[1;36m128\u001b[0m\u001b[1;33m,\u001b[0m \u001b[1;36m256\u001b[0m\u001b[1;33m]\u001b[0m\u001b[1;33m\u001b[0m\u001b[1;33m\u001b[0m\u001b[0m\n\u001b[0;32m      2\u001b[0m \u001b[1;33m\u001b[0m\u001b[0m\n\u001b[1;32m----> 3\u001b[1;33m \u001b[1;32mfor\u001b[0m \u001b[0mradius\u001b[0m \u001b[1;32min\u001b[0m \u001b[0mradius_lbp\u001b[0m\u001b[1;33m:\u001b[0m\u001b[1;33m\u001b[0m\u001b[1;33m\u001b[0m\u001b[0m\n\u001b[0m\u001b[0;32m      4\u001b[0m     \u001b[1;32mfor\u001b[0m \u001b[0mresize\u001b[0m \u001b[1;32min\u001b[0m \u001b[0mresize_dataset\u001b[0m\u001b[1;33m:\u001b[0m\u001b[1;33m\u001b[0m\u001b[1;33m\u001b[0m\u001b[0m\n\u001b[0;32m      5\u001b[0m         \u001b[0mfilename_ekstraksi\u001b[0m \u001b[1;33m=\u001b[0m \u001b[1;34m\"ekstraksi_ciri/radius\"\u001b[0m\u001b[1;33m+\u001b[0m\u001b[0mstr\u001b[0m\u001b[1;33m(\u001b[0m\u001b[0mradius\u001b[0m\u001b[1;33m)\u001b[0m\u001b[1;33m+\u001b[0m\u001b[1;34m\"resize\"\u001b[0m\u001b[1;33m+\u001b[0m\u001b[0mstr\u001b[0m\u001b[1;33m(\u001b[0m\u001b[0mresize\u001b[0m\u001b[1;33m)\u001b[0m\u001b[1;33m+\u001b[0m\u001b[1;34m\".csv\"\u001b[0m\u001b[1;33m\u001b[0m\u001b[1;33m\u001b[0m\u001b[0m\n",
      "\u001b[1;31mNameError\u001b[0m: name 'radius_lbp' is not defined"
     ]
    }
   ],
   "source": [
    "radius_lbp = [1,2,3,4,5,6,7,8,9]\n",
    "klasifikasi_k = [1,3,5,7,9]\n",
    "\n",
    "resize_dataset = [32, 64, 128, 256]\n",
    "\n",
    "for radius in radius_lbp:\n",
    "    for resize in resize_dataset:\n",
    "        filename_ekstraksi = \"ekstraksi_ciri/radius\"+str(radius)+\"resize\"+str(resize)+\".csv\"\n",
    "        skenario = Skenario(radius, 4, resize, 1, filename_ekstraksi)\n",
    "        skenario.saveEkstraksiHeader()\n",
    "        skenario.startEkstraksi()\n",
    "        #klasifikasi\n",
    "        filename_klasifikasi = \"hasil_klasifikasi.csv\"\n",
    "        result_klasifikasi = [filename_ekstraksi]\n",
    "        for k in klasifikasi_k:\n",
    "            result = skenario.startKlasifikasi(k)\n",
    "            result_klasifikasi.extend(result)\n",
    "        skenario.saveHasilKlasifikasi(filename_klasifikasi, result_klasifikasi)"
   ]
  }
 ],
 "metadata": {
  "kernelspec": {
   "display_name": "Python 3",
   "language": "python",
   "name": "python3"
  },
  "language_info": {
   "codemirror_mode": {
    "name": "ipython",
    "version": 3
   },
   "file_extension": ".py",
   "mimetype": "text/x-python",
   "name": "python",
   "nbconvert_exporter": "python",
   "pygments_lexer": "ipython3",
   "version": "3.7.7"
  }
 },
 "nbformat": 4,
 "nbformat_minor": 4
}
