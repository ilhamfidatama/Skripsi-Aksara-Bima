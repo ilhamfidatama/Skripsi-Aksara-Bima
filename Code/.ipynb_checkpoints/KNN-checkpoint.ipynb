{
 "cells": [
  {
   "cell_type": "code",
   "execution_count": 48,
   "metadata": {},
   "outputs": [],
   "source": [
    "from sklearn.neighbors import KNeighborsClassifier\n",
    "from sklearn.model_selection import KFold\n",
    "from sklearn import datasets"
   ]
  },
  {
   "cell_type": "code",
   "execution_count": 59,
   "metadata": {},
   "outputs": [],
   "source": [
    "class Klasifikasi:\n",
    "    \n",
    "    def __init__(self, neighbor):\n",
    "        self.knn = KNeighborsClassifier(n_neighbors=neighbor)\n",
    "    \n",
    "    '''\n",
    "    method procced berisi proses k-fold dan klasifikasi knn\n",
    "    memberikan nilai return scores sejumlah 10 fold dan nilai rata-rata scores\n",
    "    '''\n",
    "    def procced(self, dataset, datasetClass):\n",
    "        kf = KFold(n_splits=10, shuffle=True)\n",
    "        kf.get_n_splits(dataset)\n",
    "        scores = []\n",
    "        for train_index, test_index in kf.split(X):\n",
    "            dataTrain = dataset[train_index]\n",
    "            classTrain = datasetClass[train_index]\n",
    "            dataTest = dataset[test_index]\n",
    "            classTest = datasetClass[test_index]\n",
    "            self.knn.fit(dataTrain, classTrain)\n",
    "            scores.append(self.knn.score(dataTest, classTest))\n",
    "        mean = sum(scores)/10\n",
    "        return scores, mean"
   ]
  },
  {
   "cell_type": "code",
   "execution_count": 57,
   "metadata": {},
   "outputs": [
    {
     "name": "stdout",
     "output_type": "stream",
     "text": [
      "[0.6666666666666666, 0.8666666666666667, 0.7333333333333333, 1.0, 0.5333333333333333, 0.7333333333333333, 0.8, 0.6, 0.8, 0.6]\n",
      "0.7333333333333332\n"
     ]
    }
   ],
   "source": [
    "coba = Klasifikasi(3)\n",
    "diabetes = datasets.load_iris()\n",
    "X = diabetes.data[:, :2]\n",
    "y = diabetes.target\n",
    "scores, mean = coba.procced(X,y)\n",
    "print(scores)\n",
    "print(mean)"
   ]
  },
  {
   "cell_type": "code",
   "execution_count": 44,
   "metadata": {},
   "outputs": [
    {
     "data": {
      "text/plain": [
       "34"
      ]
     },
     "execution_count": 44,
     "metadata": {},
     "output_type": "execute_result"
    }
   ],
   "source": [
    "y = [1, 2, 3, 4, 9, 15]\n",
    "sum(y)"
   ]
  }
 ],
 "metadata": {
  "kernelspec": {
   "display_name": "Python 3",
   "language": "python",
   "name": "python3"
  },
  "language_info": {
   "codemirror_mode": {
    "name": "ipython",
    "version": 3
   },
   "file_extension": ".py",
   "mimetype": "text/x-python",
   "name": "python",
   "nbconvert_exporter": "python",
   "pygments_lexer": "ipython3",
   "version": "3.7.7"
  }
 },
 "nbformat": 4,
 "nbformat_minor": 4
}
