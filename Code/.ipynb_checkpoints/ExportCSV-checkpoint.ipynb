{
 "cells": [
  {
   "cell_type": "code",
   "execution_count": 45,
   "metadata": {},
   "outputs": [],
   "source": [
    "import csv\n",
    "import numpy\n",
    "import pandas"
   ]
  },
  {
   "cell_type": "code",
   "execution_count": 48,
   "metadata": {},
   "outputs": [],
   "source": [
    "class ExportCSV:\n",
    "    \n",
    "    #format filename lbp{radius}\n",
    "    def __init__(self, filename):\n",
    "        self.filename = filename + \".csv\"\n",
    "        header = [\"class\"]\n",
    "        data = numpy.arange(0,256)\n",
    "        header.extend(data)\n",
    "        print(header)\n",
    "        self.writeData(header, method='w')\n",
    "        \n",
    "    def saveData(self,data, method='a'):\n",
    "        with open(self.filename, method) as file:\n",
    "            edit = csv.writer(file)\n",
    "            edit.writerow(data)\n",
    "            \n",
    "    def loadData(self):\n",
    "        allData = pandas.read_csv(self.filename)\n",
    "        classData = allData['class']\n",
    "        data = allData.drop('class', axis=1)\n",
    "        return classData, data"
   ]
  },
  {
   "cell_type": "code",
   "execution_count": null,
   "metadata": {},
   "outputs": [],
   "source": []
  }
 ],
 "metadata": {
  "kernelspec": {
   "display_name": "Python 3",
   "language": "python",
   "name": "python3"
  },
  "language_info": {
   "codemirror_mode": {
    "name": "ipython",
    "version": 3
   },
   "file_extension": ".py",
   "mimetype": "text/x-python",
   "name": "python",
   "nbconvert_exporter": "python",
   "pygments_lexer": "ipython3",
   "version": "3.7.7"
  }
 },
 "nbformat": 4,
 "nbformat_minor": 4
}
