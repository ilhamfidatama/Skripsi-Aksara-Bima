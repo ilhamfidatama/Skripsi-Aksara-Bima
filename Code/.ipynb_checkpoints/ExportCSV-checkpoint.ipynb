{
 "cells": [
  {
   "cell_type": "code",
   "execution_count": 1,
   "metadata": {},
   "outputs": [],
   "source": [
    "import csv\n",
    "import numpy\n",
    "import pandas"
   ]
  },
  {
   "cell_type": "code",
   "execution_count": 2,
   "metadata": {},
   "outputs": [],
   "source": [
    "class ExportCSV:\n",
    "    \n",
    "    def __init__(self, filename):\n",
    "        self.filename = filename\n",
    "        \n",
    "    def saveHeader(self, feature):\n",
    "        header = [\"class\"]\n",
    "        ciri = numpy.arange(0,feature)\n",
    "        header.extend(ciri)\n",
    "        self.saveData(header, method=\"w\")\n",
    "        \n",
    "    def createFile(self, header):\n",
    "        headers = [\"datasets\"]\n",
    "        headers.extend(header)\n",
    "        self.saveData(headers, method=\"w\")\n",
    "        \n",
    "    def saveData(self, data, method='a'):\n",
    "        with open(self.filename, method) as file:\n",
    "            edit = csv.writer(file)\n",
    "            edit.writerow(data)\n",
    "            \n",
    "    def loadData(self):\n",
    "        allData = pandas.read_csv(self.filename)\n",
    "        classData = allData['class']\n",
    "        data = allData.drop('class', axis=1)\n",
    "        return numpy.array(data), numpy.array(classData)"
   ]
  },
  {
   "cell_type": "code",
   "execution_count": 3,
   "metadata": {},
   "outputs": [],
   "source": [
    "class EksportNaufal:\n",
    "    \n",
    "    #format filename lbp{radius}\n",
    "    def __init__(self, filename):\n",
    "        self.filename = filename + \".csv\"\n",
    "            \n",
    "    def loadData(self):\n",
    "        allData = pandas.read_csv(self.filename)\n",
    "        classData = allData['labels']\n",
    "#         data = allData.drop('labels')\n",
    "        del allData['labels']\n",
    "        data1 = allData.drop('img_paths', axis=1)\n",
    "        return numpy.array(data1), numpy.array(classData)"
   ]
  }
 ],
 "metadata": {
  "kernelspec": {
   "display_name": "Python 3",
   "language": "python",
   "name": "python3"
  },
  "language_info": {
   "codemirror_mode": {
    "name": "ipython",
    "version": 3
   },
   "file_extension": ".py",
   "mimetype": "text/x-python",
   "name": "python",
   "nbconvert_exporter": "python",
   "pygments_lexer": "ipython3",
   "version": "3.7.7"
  }
 },
 "nbformat": 4,
 "nbformat_minor": 4
}
