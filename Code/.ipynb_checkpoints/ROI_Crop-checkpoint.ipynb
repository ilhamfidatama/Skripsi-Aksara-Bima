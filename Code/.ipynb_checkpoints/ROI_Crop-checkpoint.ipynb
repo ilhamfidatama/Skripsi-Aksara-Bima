{
 "cells": [
  {
   "cell_type": "code",
   "execution_count": 4,
   "metadata": {},
   "outputs": [],
   "source": [
    "import cv2\n",
    "import os\n",
    "import numpy as np"
   ]
  },
  {
   "cell_type": "code",
   "execution_count": 5,
   "metadata": {},
   "outputs": [],
   "source": [
    "def convert_to_bw(file_name):\n",
    "    img = cv2.imread(file_name)\n",
    "    grayImg = cv2.cvtColor(img, cv2.COLOR_BGR2GRAY)\n",
    "    thresh, bwImg = cv2.threshold(grayImg, 127, 255, cv2.THRESH_BINARY)\n",
    "    return bwImg"
   ]
  },
  {
   "cell_type": "code",
   "execution_count": 6,
   "metadata": {},
   "outputs": [],
   "source": [
    "def crop_roi(file_path, filename, label):\n",
    "    slice_roi(convert_to_bw(file_path), filename, label)"
   ]
  },
  {
   "cell_type": "code",
   "execution_count": 7,
   "metadata": {},
   "outputs": [],
   "source": [
    "def slice_roi(img, filename, label):\n",
    "    # convert 0 to 1 , 1 to 0 to find border\n",
    "    img2 = np.where(img==0, 255, 0)\n",
    "    \n",
    "    kernel = np.ones((5,5),np.uint8)\n",
    "    img3 = cv2.morphologyEx(img2.astype('uint8'), cv2.MORPH_OPEN, kernel)\n",
    "    \n",
    "    #axis=0 refer to column, axis=1 refer to row\n",
    "    \n",
    "    #find column with value >0 to find left/right border\n",
    "    img2_col = np.sum(img3, axis = 0)\n",
    "    col_with_value = np.where(img2_col > 0)[0]\n",
    "    \n",
    "    #find row with value >0 to find top/bottom border\n",
    "    img2_row = np.sum(img3, axis = 1)\n",
    "    row_with_value = np.where(img2_row > 0)[0]\n",
    "    \n",
    "    #get left/right border\n",
    "    start_col = min(col_with_value)\n",
    "    end_col = max(col_with_value)\n",
    "    \n",
    "    #get top/bottom border\n",
    "    start_row = min(row_with_value)\n",
    "    end_row = max(row_with_value)\n",
    "    \n",
    "    #get ROI width & height\n",
    "    roi_width = end_col - start_col\n",
    "    roi_height = end_row - start_row\n",
    "    \n",
    "    #get ROI area\n",
    "    img = img[start_row:end_row, start_col:end_col]\n",
    "    \n",
    "    if roi_width > roi_height:\n",
    "        diff = roi_width - roi_height\n",
    "        extra_pad = int(diff/2)\n",
    "        img = np.pad(img, ((extra_pad, extra_pad), (0,0)), 'maximum')\n",
    "    else:\n",
    "        diff = roi_height - roi_width\n",
    "        extra_pad = int(diff/2)\n",
    "        img = np.pad(img, ((0,0), (extra_pad, extra_pad)), 'maximum')\n",
    "    out_img = cv2.imwrite('hasil/'+label+'/'+filename, img)\n",
    "#     out_img = cv2.imwrite('hasil/'+filename, img)"
   ]
  },
  {
   "cell_type": "code",
   "execution_count": 8,
   "metadata": {},
   "outputs": [],
   "source": [
    "img_dir = \"Datasets_Mbojo\"\n",
    "# img_dir2 = 'coba'"
   ]
  },
  {
   "cell_type": "code",
   "execution_count": 9,
   "metadata": {},
   "outputs": [],
   "source": [
    "for subdir1 in os.listdir(img_dir):\n",
    "    subdir2 = img_dir+'/'+subdir1\n",
    "    for file in os.listdir(subdir2):\n",
    "        file_path = subdir2+'/'+file\n",
    "        crop_roi(file_path, file, subdir1)"
   ]
  },
  {
   "cell_type": "code",
   "execution_count": 10,
   "metadata": {},
   "outputs": [],
   "source": [
    "# for file in os.listdir(img_dir2):\n",
    "#     file_path = img_dir2+'/'+file\n",
    "#     crop_roi(file_path, file, '.')\n",
    "#     for file in os.listdir(subdir2):\n",
    "#         file_path = subdir2+'/'+file\n",
    "#         crop_roi(file_path, file, subdir1)"
   ]
  }
 ],
 "metadata": {
  "kernelspec": {
   "display_name": "Python 3",
   "language": "python",
   "name": "python3"
  },
  "language_info": {
   "codemirror_mode": {
    "name": "ipython",
    "version": 3
   },
   "file_extension": ".py",
   "mimetype": "text/x-python",
   "name": "python",
   "nbconvert_exporter": "python",
   "pygments_lexer": "ipython3",
   "version": "3.7.7"
  }
 },
 "nbformat": 4,
 "nbformat_minor": 4
}
