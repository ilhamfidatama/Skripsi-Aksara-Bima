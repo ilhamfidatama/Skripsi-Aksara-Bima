{
 "cells": [
  {
   "cell_type": "code",
   "execution_count": 1,
   "metadata": {},
   "outputs": [],
   "source": [
    "from ipynb.fs.full.KNN import Klasifikasi\n",
    "from ipynb.fs.full.KSVNN import Reduksi\n",
    "from ipynb.fs.full.ExportCSV import ExportCSV"
   ]
  },
  {
   "cell_type": "code",
   "execution_count": 2,
   "metadata": {},
   "outputs": [],
   "source": [
    "class MainProgram:\n",
    "    \n",
    "    def __init__(self, split, filename):\n",
    "        self.split = split\n",
    "        self.csv = ExportCSV(filename)\n",
    "        \n",
    "    def startKlasifikasi(self, k):\n",
    "        knn = Klasifikasi(k, self.split)\n",
    "        data, classData = self.csv.loadData()\n",
    "        knn.procced(data, classData)\n",
    "        return knn.score, knn.presisi, knn.recall, knn.time\n",
    "    \n",
    "    def startReduce(self, k):\n",
    "        reduce = Reduksi(k, self.split)\n",
    "        dataset, datasetClass = self.csv.loadData()\n",
    "        reduce.startSkenarioReduksi(dataset, datasetClass)\n",
    "        return reduce.score, reduce.presisi, reduce.recall, reduce.time"
   ]
  }
 ],
 "metadata": {
  "kernelspec": {
   "display_name": "Python 3",
   "language": "python",
   "name": "python3"
  },
  "language_info": {
   "codemirror_mode": {
    "name": "ipython",
    "version": 3
   },
   "file_extension": ".py",
   "mimetype": "text/x-python",
   "name": "python",
   "nbconvert_exporter": "python",
   "pygments_lexer": "ipython3",
   "version": "3.9.1"
  }
 },
 "nbformat": 4,
 "nbformat_minor": 4
}
