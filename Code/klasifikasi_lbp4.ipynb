{
 "cells": [
  {
   "cell_type": "markdown",
   "metadata": {},
   "source": [
    "# Data ciri LBP 4"
   ]
  },
  {
   "cell_type": "code",
   "execution_count": 1,
   "metadata": {},
   "outputs": [],
   "source": [
    "from ipynb.fs.full.klasifikasi_baru import MainProgram\n",
    "#library visualisasi data\n",
    "from tabulate import tabulate\n",
    "import time\n",
    "import glob"
   ]
  },
  {
   "cell_type": "code",
   "execution_count": 2,
   "metadata": {},
   "outputs": [],
   "source": [
    "def showData( header, data):\n",
    "        cetak = tabulate(data, headers=header, tablefmt='orgtbl')\n",
    "        print(cetak)"
   ]
  },
  {
   "cell_type": "code",
   "execution_count": 3,
   "metadata": {},
   "outputs": [
    {
     "name": "stdout",
     "output_type": "stream",
     "text": [
      "waktu komputasi : 4514.401496171951\n"
     ]
    }
   ],
   "source": [
    "start = time.time()\n",
    "start_index = 1\n",
    "start_process = 49\n",
    "end_index = 64\n",
    "result = []\n",
    "skenario_klasifikasi = [1,3,5,7,9]\n",
    "header = [\"datasets\", \"k\", \"before\", \"presisi\", \"recall\", \"waktu komputasi\", \"after\", \"presisi\", \"recall\", \"waktu komputasi\"]\n",
    "for ekstrak in glob.glob(\"hasil_ekstraksi_ciri/*\"):\n",
    "    if(start_index >= start_process and start_index <= end_index):\n",
    "        for k in skenario_klasifikasi:\n",
    "            program = MainProgram(5, ekstrak)\n",
    "            score, presisi, recall, compute = program.startKlasifikasi(k)\n",
    "            data = [ekstrak, k, score, presisi, recall, compute]\n",
    "            result.append(data)\n",
    "#         print(\"proses\", ekstrak, \" || waktu total :\", total_waktu, \"menit\")\n",
    "    start_index += 1\n",
    "    \n",
    "end = time.time()\n",
    "print(\"waktu komputasi :\", (end-start))"
   ]
  },
  {
   "cell_type": "code",
   "execution_count": 4,
   "metadata": {},
   "outputs": [
    {
     "name": "stdout",
     "output_type": "stream",
     "text": [
      "| datasets                                       |   k |   before |   presisi |   recall |   waktu komputasi |\n",
      "|------------------------------------------------+-----+----------+-----------+----------+-------------------|\n",
      "| hasil_ekstraksi_ciri\\lbp4n4resize128zona16.csv |   1 |    60.74 |      0.61 |     0.61 |             74.18 |\n",
      "| hasil_ekstraksi_ciri\\lbp4n4resize128zona16.csv |   3 |    60.17 |      0.6  |     0.6  |             74.44 |\n",
      "| hasil_ekstraksi_ciri\\lbp4n4resize128zona16.csv |   5 |    63.74 |      0.64 |     0.64 |             73.44 |\n",
      "| hasil_ekstraksi_ciri\\lbp4n4resize128zona16.csv |   7 |    64.61 |      0.65 |     0.65 |             75.65 |\n",
      "| hasil_ekstraksi_ciri\\lbp4n4resize128zona16.csv |   9 |    64.99 |      0.65 |     0.65 |             75.44 |\n",
      "| hasil_ekstraksi_ciri\\lbp4n4resize128zona8.csv  |   7 |    62.3  |      0.62 |     0.62 |             27.27 |\n",
      "| hasil_ekstraksi_ciri\\lbp4n4resize128zona8.csv  |   9 |    61.65 |      0.62 |     0.62 |             27.31 |\n",
      "| hasil_ekstraksi_ciri\\lbp4n4resize256zona16.csv |   1 |    65.67 |      0.66 |     0.66 |            106.66 |\n",
      "| hasil_ekstraksi_ciri\\lbp4n4resize256zona16.csv |   3 |    67.11 |      0.67 |     0.67 |            108.04 |\n",
      "| hasil_ekstraksi_ciri\\lbp4n4resize256zona16.csv |   5 |    68.62 |      0.69 |     0.69 |            110.58 |\n",
      "| hasil_ekstraksi_ciri\\lbp4n4resize256zona16.csv |   7 |    67.94 |      0.68 |     0.68 |            109.76 |\n",
      "| hasil_ekstraksi_ciri\\lbp4n4resize256zona16.csv |   9 |    68.44 |      0.68 |     0.68 |            109.2  |\n",
      "| hasil_ekstraksi_ciri\\lbp4n4resize256zona8.csv  |   1 |    60.29 |      0.6  |     0.6  |             25.38 |\n",
      "| hasil_ekstraksi_ciri\\lbp4n4resize256zona8.csv  |   3 |    61.58 |      0.62 |     0.62 |             26.42 |\n",
      "| hasil_ekstraksi_ciri\\lbp4n4resize256zona8.csv  |   5 |    62.64 |      0.63 |     0.63 |             26.59 |\n",
      "| hasil_ekstraksi_ciri\\lbp4n4resize256zona8.csv  |   7 |    64.65 |      0.65 |     0.65 |             26.48 |\n",
      "| hasil_ekstraksi_ciri\\lbp4n4resize256zona8.csv  |   9 |    64.15 |      0.64 |     0.64 |             26.14 |\n",
      "| hasil_ekstraksi_ciri\\lbp4n4resize64zona16.csv  |   1 |    80.48 |      0.8  |     0.8  |             82.33 |\n",
      "| hasil_ekstraksi_ciri\\lbp4n4resize64zona16.csv  |   3 |    78.29 |      0.78 |     0.78 |             73.73 |\n",
      "| hasil_ekstraksi_ciri\\lbp4n4resize64zona16.csv  |   5 |    77.53 |      0.78 |     0.78 |             77.49 |\n",
      "| hasil_ekstraksi_ciri\\lbp4n4resize64zona16.csv  |   7 |    75.37 |      0.75 |     0.75 |             93.14 |\n",
      "| hasil_ekstraksi_ciri\\lbp4n4resize64zona16.csv  |   9 |    74.23 |      0.74 |     0.74 |             93.4  |\n"
     ]
    }
   ],
   "source": [
    "header = [\"datasets\", \"k\", \"before\", \"presisi\", \"recall\", \"waktu komputasi\"]\n",
    "hasil_tertinggi = [row for row in result if row[2] > 60]\n",
    "showData(header, hasil_tertinggi)"
   ]
  },
  {
   "cell_type": "code",
   "execution_count": 5,
   "metadata": {},
   "outputs": [],
   "source": [
    "for hasil in hasil_tertinggi:\n",
    "    program = MainProgram(5, hasil[0])\n",
    "    score, presisi, recall, compute = program.startReduce(hasil[1])\n",
    "    hasil[0].replace(\"hasil_ekstraksi_ciri\\lbp\", \"lbp\")\n",
    "    result = [score, presisi, recall, compute]\n",
    "    hasil.extend(result)"
   ]
  },
  {
   "cell_type": "code",
   "execution_count": 6,
   "metadata": {},
   "outputs": [
    {
     "name": "stdout",
     "output_type": "stream",
     "text": [
      "| datasets                                       |   k |   before |   presisi |   recall |   waktu komputasi |   after |   presisi |   recall |   waktu komputasi |\n",
      "|------------------------------------------------+-----+----------+-----------+----------+-------------------+---------+-----------+----------+-------------------|\n",
      "| hasil_ekstraksi_ciri\\lbp4n4resize128zona16.csv |   1 |    60.74 |      0.61 |     0.61 |             74.18 |    43.4 |      0.44 |     0.44 |             33.94 |\n",
      "| hasil_ekstraksi_ciri\\lbp4n4resize128zona16.csv |   3 |    60.17 |      0.6  |     0.6  |             74.44 |    53.6 |      0.54 |     0.54 |             65.28 |\n",
      "| hasil_ekstraksi_ciri\\lbp4n4resize128zona16.csv |   5 |    63.74 |      0.64 |     0.64 |             73.44 |    61.2 |      0.61 |     0.61 |             75.07 |\n",
      "| hasil_ekstraksi_ciri\\lbp4n4resize128zona16.csv |   7 |    64.61 |      0.65 |     0.65 |             75.65 |    64.4 |      0.64 |     0.64 |             78.87 |\n",
      "| hasil_ekstraksi_ciri\\lbp4n4resize128zona16.csv |   9 |    64.99 |      0.65 |     0.65 |             75.44 |    64   |      0.64 |     0.64 |             67.67 |\n",
      "| hasil_ekstraksi_ciri\\lbp4n4resize128zona8.csv  |   7 |    62.3  |      0.62 |     0.62 |             27.27 |    59   |      0.59 |     0.59 |             17.26 |\n",
      "| hasil_ekstraksi_ciri\\lbp4n4resize128zona8.csv  |   9 |    61.65 |      0.62 |     0.62 |             27.31 |    60.4 |      0.6  |     0.6  |             16.42 |\n",
      "| hasil_ekstraksi_ciri\\lbp4n4resize256zona16.csv |   1 |    65.67 |      0.66 |     0.66 |            106.66 |    43   |      0.43 |     0.43 |             19.2  |\n",
      "| hasil_ekstraksi_ciri\\lbp4n4resize256zona16.csv |   3 |    67.11 |      0.67 |     0.67 |            108.04 |    55.6 |      0.56 |     0.56 |             32.14 |\n",
      "| hasil_ekstraksi_ciri\\lbp4n4resize256zona16.csv |   5 |    68.62 |      0.69 |     0.69 |            110.58 |    64   |      0.64 |     0.64 |             36.25 |\n",
      "| hasil_ekstraksi_ciri\\lbp4n4resize256zona16.csv |   7 |    67.94 |      0.68 |     0.68 |            109.76 |    65.6 |      0.66 |     0.66 |             38.95 |\n",
      "| hasil_ekstraksi_ciri\\lbp4n4resize256zona16.csv |   9 |    68.44 |      0.68 |     0.68 |            109.2  |    65.4 |      0.65 |     0.65 |             40.65 |\n",
      "| hasil_ekstraksi_ciri\\lbp4n4resize256zona8.csv  |   1 |    60.29 |      0.6  |     0.6  |             25.38 |    40.4 |      0.4  |     0.4  |              4.31 |\n",
      "| hasil_ekstraksi_ciri\\lbp4n4resize256zona8.csv  |   3 |    61.58 |      0.62 |     0.62 |             26.42 |    50   |      0.5  |     0.5  |              8.3  |\n",
      "| hasil_ekstraksi_ciri\\lbp4n4resize256zona8.csv  |   5 |    62.64 |      0.63 |     0.63 |             26.59 |    56.6 |      0.56 |     0.56 |              9.52 |\n",
      "| hasil_ekstraksi_ciri\\lbp4n4resize256zona8.csv  |   7 |    64.65 |      0.65 |     0.65 |             26.48 |    60.8 |      0.61 |     0.61 |              9.94 |\n",
      "| hasil_ekstraksi_ciri\\lbp4n4resize256zona8.csv  |   9 |    64.15 |      0.64 |     0.64 |             26.14 |    61.8 |      0.62 |     0.62 |             10.5  |\n",
      "| hasil_ekstraksi_ciri\\lbp4n4resize64zona16.csv  |   1 |    80.48 |      0.8  |     0.8  |             82.33 |    47.2 |      0.47 |     0.47 |              8.28 |\n",
      "| hasil_ekstraksi_ciri\\lbp4n4resize64zona16.csv  |   3 |    78.29 |      0.78 |     0.78 |             73.73 |    62   |      0.62 |     0.62 |             19.38 |\n",
      "| hasil_ekstraksi_ciri\\lbp4n4resize64zona16.csv  |   5 |    77.53 |      0.78 |     0.78 |             77.49 |    71   |      0.71 |     0.71 |             28.39 |\n",
      "| hasil_ekstraksi_ciri\\lbp4n4resize64zona16.csv  |   7 |    75.37 |      0.75 |     0.75 |             93.14 |    73.4 |      0.73 |     0.73 |             32.11 |\n",
      "| hasil_ekstraksi_ciri\\lbp4n4resize64zona16.csv  |   9 |    74.23 |      0.74 |     0.74 |             93.4  |    72.4 |      0.72 |     0.72 |             34.44 |\n"
     ]
    }
   ],
   "source": [
    "header = [\"datasets\", \"k\", \"before\", \"presisi\", \"recall\", \"waktu komputasi\", \"after\", \"presisi\", \"recall\", \"waktu komputasi\"]\n",
    "showData(header, hasil_tertinggi)"
   ]
  }
 ],
 "metadata": {
  "kernelspec": {
   "display_name": "Python 3",
   "language": "python",
   "name": "python3"
  },
  "language_info": {
   "codemirror_mode": {
    "name": "ipython",
    "version": 3
   },
   "file_extension": ".py",
   "mimetype": "text/x-python",
   "name": "python",
   "nbconvert_exporter": "python",
   "pygments_lexer": "ipython3",
   "version": "3.7.7"
  }
 },
 "nbformat": 4,
 "nbformat_minor": 4
}
