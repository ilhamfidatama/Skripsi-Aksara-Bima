{
 "cells": [
  {
   "cell_type": "code",
   "execution_count": 1,
   "metadata": {},
   "outputs": [],
   "source": [
    "from ipynb.fs.full.lbp import EkstraksiCiri\n",
    "from ipynb.fs.full.KNN import Klasifikasi\n",
    "from ipynb.fs.full.KSVNN import Reduksi\n",
    "from ipynb.fs.full.ExportCSV import ExportCSV\n",
    "import numpy\n",
    "import cv2\n",
    "import matplotlib.pyplot as plt\n",
    "import glob"
   ]
  },
  {
   "cell_type": "code",
   "execution_count": 2,
   "metadata": {},
   "outputs": [],
   "source": [
    "class Skenario:\n",
    "    def __init__(self, radius, tetangga, resize, zona, filename):\n",
    "        self.lbp = EkstraksiCiri(radius, tetangga, resize, zona)\n",
    "#         filename = \"hasil_ekstraksi_ciri\\lbp\"+str(lbp)+\"n\"+str(tetangga)+\"resize\"+str(resize)+\"zona\"+str(zona)\n",
    "        self.jumlah_fitur = (zona*zona*16)\n",
    "        self.csv = ExportCSV(filename)\n",
    "#         self.csv = ExportCSV(\"lbp\"+str(lbp))\n",
    "        self.folder = \"hasil\"\n",
    "    \n",
    "    def saveEkstraksiHeader(self):\n",
    "        self.csv.saveHeader(self.jumlah_fitur)\n",
    "        \n",
    "    def saveKlasifikasiHeader(self, filename, header):\n",
    "        self.csv = ExportCSV(filename)\n",
    "        self.csv.saveHeader(header)\n",
    "    \n",
    "    def getDataClass(self, basePath):\n",
    "        result = basePath.replace(self.folder, \"\")\n",
    "        return result[1:]\n",
    "    \n",
    "    def startEkstraksi(self):\n",
    "        basePathImage = self.folder+\"/*\"\n",
    "        for classPath in glob.glob(basePathImage):\n",
    "            dataClass = self.getDataClass(classPath)\n",
    "            classPath = classPath + \"\\*.jpg\"\n",
    "            for data in glob.glob(classPath):\n",
    "                result = [dataClass]\n",
    "                image = cv2.imread(data)\n",
    "                lbpResult = self.lbp.ekstrakImage(image)\n",
    "                result.extend(lbpResult)\n",
    "                self.csv.saveData(result)\n",
    "    \n",
    "    def startKlasifikasi(self, k):\n",
    "        knn = Klasifikasi(k, 5)\n",
    "        data, classData = self.csv.loadData()\n",
    "        knn.procced(data, classData)\n",
    "        result = [knn.score, knn.presisi, knn.recall, knn.time]\n",
    "        return result\n",
    "    \n",
    "    def saveHasilKlasifikasi(self, filename, result):\n",
    "        self.csv = ExportCSV(filename)\n",
    "        self.csv.saveData(result)\n",
    "    \n",
    "    def startReduce(self, k):\n",
    "        reduce = Reduksi(k, 5)\n",
    "        dataset, datasetClass = self.csv.loadData()\n",
    "        reduce.startSkenarioReduksi(dataset, datasetClass)\n",
    "        result = [reduce.score, reduce.presisi, reduce.recall, reduce.time]\n",
    "        return result"
   ]
  },
  {
   "cell_type": "code",
   "execution_count": 3,
   "metadata": {},
   "outputs": [],
   "source": [
    "# header_klasifikasi = [\"k=1\", \"presisi\", \"recall\", \"time\", \"k=3\", \"presisi\", \"recall\", \"time\",\n",
    "#                       \"k=5\", \"presisi\", \"recall\", \"time\", \"k=7\", \"presisi\", \"recall\", \"time\", \"k=9\", \"presisi\", \"recall\", \"time\"]\n",
    "# klasifikasi = ExportCSV(\"hasil_klasifikasi.csv\")\n",
    "# klasifikasi.createFile(header_klasifikasi)"
   ]
  }
 ],
 "metadata": {
  "kernelspec": {
   "display_name": "Python 3",
   "language": "python",
   "name": "python3"
  },
  "language_info": {
   "codemirror_mode": {
    "name": "ipython",
    "version": 3
   },
   "file_extension": ".py",
   "mimetype": "text/x-python",
   "name": "python",
   "nbconvert_exporter": "python",
   "pygments_lexer": "ipython3",
   "version": "3.7.7"
  }
 },
 "nbformat": 4,
 "nbformat_minor": 4
}
