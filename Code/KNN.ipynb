{
 "cells": [
  {
   "cell_type": "code",
   "execution_count": 1,
   "metadata": {},
   "outputs": [],
   "source": [
    "from sklearn.neighbors import KNeighborsClassifier\n",
    "from sklearn.metrics import classification_report\n",
    "from sklearn.model_selection import KFold\n",
    "from sklearn import datasets\n",
    "from sklearn.model_selection import train_test_split\n",
    "from sklearn.model_selection import cross_val_score\n",
    "from sklearn.metrics import precision_score\n",
    "from sklearn.metrics import recall_score\n",
    "import time"
   ]
  },
  {
   "cell_type": "code",
   "execution_count": 2,
   "metadata": {},
   "outputs": [],
   "source": [
    "class Klasifikasi:\n",
    "    \n",
    "    def __init__(self, neighbor, split):\n",
    "        self.knn = KNeighborsClassifier(n_neighbors=neighbor)\n",
    "        self.split = split\n",
    "    \n",
    "    #method procced berisi proses k-fold dan klasifikasi knn\n",
    "    #memberikan nilai return scores sejumlah 10 fold dan nilai rata-rata scores\n",
    "    \n",
    "    def getMeanData(self, data):\n",
    "        mean = sum(data)/self.split\n",
    "        return round(mean, 2)\n",
    "    \n",
    "    def procced(self, dataset, datasetClass):\n",
    "        kf = KFold(n_splits=self.split, shuffle=True)\n",
    "        kf.get_n_splits(dataset)\n",
    "        scores = []\n",
    "        presisi = []\n",
    "        recall = []\n",
    "        waktu = []\n",
    "        for train_index, test_index in kf.split(dataset):\n",
    "            start = time.time()\n",
    "            dataTrain = dataset[train_index]\n",
    "            classTrain = datasetClass[train_index]\n",
    "            dataTest = dataset[test_index]\n",
    "            classTest = datasetClass[test_index]\n",
    "            self.knn.fit(dataTrain, classTrain)\n",
    "            score = self.knn.score(dataTest, classTest)\n",
    "            end = time.time()\n",
    "            scores.append((score*100))\n",
    "            pres, rec = self.confussionMatrix(dataTest, classTest)\n",
    "            presisi.append(pres)\n",
    "            recall.append(rec)\n",
    "            waktu.append((end-start))\n",
    "        self.score = self.getMeanData(scores)\n",
    "        self.presisi = self.getMeanData(presisi)\n",
    "        self.recall = self.getMeanData(recall)\n",
    "        self.time = round(sum(waktu), 2)\n",
    "    \n",
    "    def proccedTest(self, dataset, datasetClass):\n",
    "        X_train, X_test, y_train, y_test = train_test_split(dataset,datasetClass,test_size=0.75, random_state=5)\n",
    "        self.knn.fit(X_train, y_train)\n",
    "        return self.knn.score(X_test, y_test)\n",
    "    \n",
    "    def proccedCross(self, dataset, datasetClass):\n",
    "        cross_val = cross_val_score(self.knn, dataset, datasetClass, cv=self.split)\n",
    "        return cross_val.mean()\n",
    "    \n",
    "    def confussionMatrix(self, x_test, y_test):\n",
    "        y_predict = self.knn.predict(x_test)\n",
    "        print(classification_report(y_test, y_predict))\n",
    "        presisi = precision_score(y_test, y_predict, average='micro')\n",
    "        recall = recall_score(y_test, y_predict, average='micro')\n",
    "        return presisi, recall"
   ]
  }
 ],
 "metadata": {
  "kernelspec": {
   "display_name": "Python 3",
   "language": "python",
   "name": "python3"
  },
  "language_info": {
   "codemirror_mode": {
    "name": "ipython",
    "version": 3
   },
   "file_extension": ".py",
   "mimetype": "text/x-python",
   "name": "python",
   "nbconvert_exporter": "python",
   "pygments_lexer": "ipython3",
   "version": "3.9.1"
  }
 },
 "nbformat": 4,
 "nbformat_minor": 4
}
