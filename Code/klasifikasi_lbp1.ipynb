{
 "cells": [
  {
   "cell_type": "markdown",
   "metadata": {},
   "source": [
    "# Data ciri LBP 1"
   ]
  },
  {
   "cell_type": "code",
   "execution_count": 1,
   "metadata": {},
   "outputs": [],
   "source": [
    "from ipynb.fs.full.klasifikasi_baru import MainProgram\n",
    "#library visualisasi data\n",
    "from tabulate import tabulate\n",
    "import time\n",
    "import glob"
   ]
  },
  {
   "cell_type": "code",
   "execution_count": 2,
   "metadata": {},
   "outputs": [],
   "source": [
    "def showData( header, data):\n",
    "        cetak = tabulate(data, headers=header, tablefmt='orgtbl')\n",
    "        print(cetak)"
   ]
  },
  {
   "cell_type": "code",
   "execution_count": 3,
   "metadata": {},
   "outputs": [
    {
     "name": "stdout",
     "output_type": "stream",
     "text": [
      "waktu komputasi : 4675.827664136887\n"
     ]
    }
   ],
   "source": [
    "start = time.time()\n",
    "start_index = 1\n",
    "end_index = 16\n",
    "result = []\n",
    "skenario_klasifikasi = [1,3,5,7,9]\n",
    "header = [\"datasets\", \"k\", \"before\", \"presisi\", \"recall\", \"waktu komputasi\", \"after\", \"presisi\", \"recall\", \"waktu komputasi\"]\n",
    "for ekstrak in glob.glob(\"hasil_ekstraksi_ciri/*\"):\n",
    "    if(start_index > end_index):\n",
    "        break\n",
    "    for k in skenario_klasifikasi:\n",
    "        program = MainProgram(5, ekstrak)\n",
    "        score, presisi, recall, compute = program.startKlasifikasi(k)\n",
    "        data = [ekstrak, k, score, presisi, recall, compute]\n",
    "        result.append(data)\n",
    "    start_index += 1\n",
    "    \n",
    "end = time.time()\n",
    "print(\"waktu komputasi :\", (end-start))"
   ]
  },
  {
   "cell_type": "code",
   "execution_count": 4,
   "metadata": {},
   "outputs": [
    {
     "name": "stdout",
     "output_type": "stream",
     "text": [
      "| datasets                                       |   k |   before |   presisi |   recall |   waktu komputasi |\n",
      "|------------------------------------------------+-----+----------+-----------+----------+-------------------|\n",
      "| hasil_ekstraksi_ciri\\lbp1n4resize256zona16.csv |   3 |    60.78 |      0.61 |     0.61 |            105.48 |\n",
      "| hasil_ekstraksi_ciri\\lbp1n4resize256zona16.csv |   5 |    63.24 |      0.63 |     0.63 |            107.84 |\n",
      "| hasil_ekstraksi_ciri\\lbp1n4resize256zona16.csv |   7 |    63.81 |      0.64 |     0.64 |            108.27 |\n",
      "| hasil_ekstraksi_ciri\\lbp1n4resize256zona16.csv |   9 |    63.43 |      0.63 |     0.63 |            107.27 |\n",
      "| hasil_ekstraksi_ciri\\lbp1n4resize256zona8.csv  |   3 |    60.44 |      0.6  |     0.6  |             25.46 |\n",
      "| hasil_ekstraksi_ciri\\lbp1n4resize256zona8.csv  |   5 |    60.89 |      0.61 |     0.61 |             25.91 |\n",
      "| hasil_ekstraksi_ciri\\lbp1n4resize256zona8.csv  |   7 |    62.22 |      0.62 |     0.62 |             26.58 |\n",
      "| hasil_ekstraksi_ciri\\lbp1n4resize256zona8.csv  |   9 |    61.62 |      0.62 |     0.62 |             26.75 |\n",
      "[['hasil_ekstraksi_ciri\\\\lbp1n4resize256zona16.csv', 3, 60.78, 0.61, 0.61, 105.48], ['hasil_ekstraksi_ciri\\\\lbp1n4resize256zona16.csv', 5, 63.24, 0.63, 0.63, 107.84], ['hasil_ekstraksi_ciri\\\\lbp1n4resize256zona16.csv', 7, 63.81, 0.64, 0.64, 108.27], ['hasil_ekstraksi_ciri\\\\lbp1n4resize256zona16.csv', 9, 63.43, 0.63, 0.63, 107.27], ['hasil_ekstraksi_ciri\\\\lbp1n4resize256zona8.csv', 3, 60.44, 0.6, 0.6, 25.46], ['hasil_ekstraksi_ciri\\\\lbp1n4resize256zona8.csv', 5, 60.89, 0.61, 0.61, 25.91], ['hasil_ekstraksi_ciri\\\\lbp1n4resize256zona8.csv', 7, 62.22, 0.62, 0.62, 26.58], ['hasil_ekstraksi_ciri\\\\lbp1n4resize256zona8.csv', 9, 61.62, 0.62, 0.62, 26.75]]\n"
     ]
    }
   ],
   "source": [
    "header = [\"datasets\", \"k\", \"before\", \"presisi\", \"recall\", \"waktu komputasi\"]\n",
    "hasil_tertinggi = [row for row in result if row[2] > 60]\n",
    "showData(header, hasil_tertinggi)\n",
    "print(hasil_tertinggi)"
   ]
  },
  {
   "cell_type": "code",
   "execution_count": 5,
   "metadata": {},
   "outputs": [],
   "source": [
    "for hasil in hasil_tertinggi:\n",
    "    program = MainProgram(5, hasil[0])\n",
    "    score, presisi, recall, compute = program.startReduce(hasil[1])\n",
    "    hasil[0].replace(\"hasil_ekstraksi_ciri\\lbp\", \"lbp\")\n",
    "    result = [score, presisi, recall, compute]\n",
    "    hasil.extend(result)"
   ]
  },
  {
   "cell_type": "code",
   "execution_count": 6,
   "metadata": {},
   "outputs": [
    {
     "name": "stdout",
     "output_type": "stream",
     "text": [
      "| datasets                                       |   k |   before |   presisi |   recall |   waktu komputasi |   after |   presisi |   recall |   waktu komputasi |\n",
      "|------------------------------------------------+-----+----------+-----------+----------+-------------------+---------+-----------+----------+-------------------|\n",
      "| hasil_ekstraksi_ciri\\lbp1n4resize256zona16.csv |   3 |    60.78 |      0.61 |     0.61 |            105.48 |    51.4 |      0.51 |     0.51 |             68.71 |\n",
      "| hasil_ekstraksi_ciri\\lbp1n4resize256zona16.csv |   5 |    63.24 |      0.63 |     0.63 |            107.84 |    58.8 |      0.59 |     0.59 |             82.95 |\n",
      "| hasil_ekstraksi_ciri\\lbp1n4resize256zona16.csv |   7 |    63.81 |      0.64 |     0.64 |            108.27 |    61.8 |      0.62 |     0.62 |             92.18 |\n",
      "| hasil_ekstraksi_ciri\\lbp1n4resize256zona16.csv |   9 |    63.43 |      0.63 |     0.63 |            107.27 |    62.6 |      0.63 |     0.63 |             83.04 |\n",
      "| hasil_ekstraksi_ciri\\lbp1n4resize256zona8.csv  |   3 |    60.44 |      0.6  |     0.6  |             25.46 |    51   |      0.51 |     0.51 |             14.3  |\n",
      "| hasil_ekstraksi_ciri\\lbp1n4resize256zona8.csv  |   5 |    60.89 |      0.61 |     0.61 |             25.91 |    55.4 |      0.55 |     0.55 |             16.03 |\n",
      "| hasil_ekstraksi_ciri\\lbp1n4resize256zona8.csv  |   7 |    62.22 |      0.62 |     0.62 |             26.58 |    58.2 |      0.58 |     0.58 |             17.52 |\n",
      "| hasil_ekstraksi_ciri\\lbp1n4resize256zona8.csv  |   9 |    61.62 |      0.62 |     0.62 |             26.75 |    57.6 |      0.58 |     0.58 |             18    |\n"
     ]
    }
   ],
   "source": [
    "header = [\"datasets\", \"k\", \"before\", \"presisi\", \"recall\", \"waktu komputasi\", \"after\", \"presisi\", \"recall\", \"waktu komputasi\"]\n",
    "showData(header, hasil_tertinggi)"
   ]
  }
 ],
 "metadata": {
  "kernelspec": {
   "display_name": "Python 3",
   "language": "python",
   "name": "python3"
  },
  "language_info": {
   "codemirror_mode": {
    "name": "ipython",
    "version": 3
   },
   "file_extension": ".py",
   "mimetype": "text/x-python",
   "name": "python",
   "nbconvert_exporter": "python",
   "pygments_lexer": "ipython3",
   "version": "3.7.7"
  }
 },
 "nbformat": 4,
 "nbformat_minor": 4
}
