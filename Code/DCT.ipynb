{
 "cells": [
  {
   "cell_type": "code",
   "execution_count": 29,
   "metadata": {},
   "outputs": [],
   "source": [
    "#Function get DCT feture vector \n",
    "from scipy.fftpack import dct, idct\n",
    "from skimage.measure import compare_mse\n",
    "from ipynb.fs.full.lbp import EkstraksiCiri\n",
    "from skimage.feature import local_binary_pattern\n",
    "import cv2\n",
    "import numpy\n",
    "import math"
   ]
  },
  {
   "cell_type": "code",
   "execution_count": 36,
   "metadata": {},
   "outputs": [],
   "source": [
    "class DCT:\n",
    "    def dct2(self, block):\n",
    "        return dct(dct(block.T, norm='ortho').T, norm='ortho')\n",
    "\n",
    "    def idct2(self, block):\n",
    "        return idct(idct(block.T, norm='ortho').T, norm='ortho')\n",
    "\n",
    "    #Extract DCT features of Image\n",
    "    def zigZag(self, mat):\n",
    "        rows=len(mat)\n",
    "        columns=len(mat[0])\n",
    "\n",
    "        solution=[[] for i in range(rows+columns-1)] \n",
    "\n",
    "        for i in range(rows): \n",
    "            for j in range(columns): \n",
    "                sum=i+j \n",
    "                if(sum%2 ==0): \n",
    "\n",
    "                    #add at beginning \n",
    "                    solution[sum].insert(0,mat[i][j]) \n",
    "                else: \n",
    "\n",
    "                    #add at end of the list \n",
    "                    solution[sum].append(mat[i][j]) \n",
    "\n",
    "        return numpy.concatenate(solution,axis=None)\n",
    "\n",
    "    def getDctFeatures(self, img,num):\n",
    "        #Init\n",
    "        n=math.ceil(sqrt(num))\n",
    "        cD = self.dct2(img)\n",
    "        cD = self.zigZag(cD[0:n,0:n])\n",
    "        cD = cD[0:num]\n",
    "        return (cD/numpy.sqrt(cD @ cD))\n",
    "    \n",
    "    def getDCT(self, dt):\n",
    "        hfDCT=[]\n",
    "        nFeat=48\n",
    "        for i in range(dt.shape[0]):\n",
    "            t=self.getDctFeatures(dt[i],nFeat)\n",
    "            hfDCT=numpy.concatenate((hfDCT, t), axis=None)\n",
    "\n",
    "        hfDCT=numpy.reshape(hfDCT,(round(hfDCT.size/nFeat),nFeat))\n",
    "        return hfDCT"
   ]
  },
  {
   "cell_type": "code",
   "execution_count": 44,
   "metadata": {},
   "outputs": [
    {
     "name": "stdout",
     "output_type": "stream",
     "text": [
      "[[255 255 255 ... 255 255 255]\n",
      " [255 255 255 ... 255 255 255]\n",
      " [255 255 255 ... 255 255 255]\n",
      " ...\n",
      " [255 255 255 ... 255 255 255]\n",
      " [255 255 255 ... 255 255 255]\n",
      " [255 255 255 ... 255 255 255]]\n"
     ]
    },
    {
     "data": {
      "text/plain": [
       "array([[[1., 1., 1., ..., 0., 0., 0.],\n",
       "        [1., 1., 1., ..., 0., 0., 0.],\n",
       "        [1., 1., 1., ..., 0., 0., 0.],\n",
       "        ...,\n",
       "        [1., 1., 1., ..., 0., 0., 0.],\n",
       "        [1., 1., 1., ..., 0., 0., 0.],\n",
       "        [1., 1., 1., ..., 0., 0., 0.]]])"
      ]
     },
     "execution_count": 44,
     "metadata": {},
     "output_type": "execute_result"
    }
   ],
   "source": [
    "dcT = DCT()\n",
    "img = cv2.imread(\"a0.jpg\")\n",
    "grayscale = cv2.cvtColor(img, cv2.COLOR_BGR2GRAY)\n",
    "print(grayscale)\n",
    "lbp = local_binary_pattern(grayscale, 1, 4)\n",
    "result_lbp = numpy.array([lbp])\n",
    "result_lbp"
   ]
  },
  {
   "cell_type": "code",
   "execution_count": 39,
   "metadata": {},
   "outputs": [
    {
     "data": {
      "text/plain": [
       "array([[ 9.98490032e-01,  1.68117126e-02, -3.04548279e-03,\n",
       "         2.75170385e-02, -2.92739923e-03, -1.35400488e-02,\n",
       "         8.99300659e-03,  2.21262515e-04, -1.57356353e-03,\n",
       "         7.95601130e-03, -1.68431780e-02,  6.84567706e-03,\n",
       "        -2.38608646e-03,  2.30381057e-03, -1.61764109e-02,\n",
       "         1.32932125e-02, -3.16272840e-04,  9.42993042e-03,\n",
       "        -1.80078804e-04,  2.23666672e-03, -9.97472557e-03,\n",
       "         5.29523720e-03, -6.38924544e-03,  1.69259385e-04,\n",
       "        -4.95736731e-03,  2.59584503e-03,  1.00555724e-03,\n",
       "        -1.34140959e-02,  1.24696445e-03,  2.93645885e-03,\n",
       "         7.30128991e-04, -8.24213162e-03, -8.22448798e-04,\n",
       "        -2.74789862e-03,  1.92308670e-03,  3.32924975e-03,\n",
       "        -7.43810932e-03, -2.30429909e-03, -3.05462820e-03,\n",
       "        -3.33762315e-03, -1.49647934e-03, -7.14136891e-04,\n",
       "         5.78823028e-03,  1.13808498e-02,  1.99770915e-03,\n",
       "         2.10593830e-03,  4.26835794e-03,  3.58967372e-04]])"
      ]
     },
     "execution_count": 39,
     "metadata": {},
     "output_type": "execute_result"
    }
   ],
   "source": [
    "result_dct = dcT.getDCT(result_lbp)\n",
    "result_dct"
   ]
  },
  {
   "cell_type": "code",
   "execution_count": 40,
   "metadata": {},
   "outputs": [
    {
     "data": {
      "text/plain": [
       "48"
      ]
     },
     "execution_count": 40,
     "metadata": {},
     "output_type": "execute_result"
    }
   ],
   "source": [
    "16*3"
   ]
  }
 ],
 "metadata": {
  "kernelspec": {
   "display_name": "Python 3",
   "language": "python",
   "name": "python3"
  },
  "language_info": {
   "codemirror_mode": {
    "name": "ipython",
    "version": 3
   },
   "file_extension": ".py",
   "mimetype": "text/x-python",
   "name": "python",
   "nbconvert_exporter": "python",
   "pygments_lexer": "ipython3",
   "version": "3.7.7"
  }
 },
 "nbformat": 4,
 "nbformat_minor": 4
}
